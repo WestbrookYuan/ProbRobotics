{
 "cells": [
  {
   "cell_type": "code",
   "execution_count": 13,
   "metadata": {
    "collapsed": true
   },
   "outputs": [],
   "source": [
    "import numpy as np\n",
    "import matplotlib.pyplot as plt"
   ]
  },
  {
   "cell_type": "markdown",
   "metadata": {
    "nbpresent": {
     "id": "8513e6c5-cb59-4263-b065-2ff8fb13ca43"
    }
   },
   "source": [
    "# 卡尔曼滤波器（Kalman Filter，KF）算法及仿真\n",
    "\n",
    "## 1. 贝叶斯滤波器\n",
    "\n",
    "贝叶斯滤波器的算法如下所示：\n",
    "\n",
    "----\n",
    "1：**Algorithm Bayes_filter**$(bel(x_{t-1}), u_t, z_t)$**:**  \n",
    "2：&emsp;&emsp;for all $x_t$ do  \n",
    "3：&emsp;&emsp;&emsp;&emsp;$\\overline {bel}(x_t) = \\int p(x_t | u_t, x_{t-1})bel(x_{t-1})dx_{t-1}$  \n",
    "4：&emsp;&emsp;&emsp;&emsp;$bel(x_t)=\\eta p ( z_t | x_t) \\overline {bel}(x_t)$  \n",
    "5：&emsp;&emsp;end for  \n",
    "6：&emsp;&emsp;**return** $bel(x_t)$  \n",
    "\n",
    "----\n",
    "\n",
    "**贝叶斯滤波**的生成模型也被称为**隐马尔科夫模型（Hidden Markov Model，HMM）**或**动态贝叶斯网络（Dynamic Bayes Network， DBN）**。\n",
    "\n",
    "对于离散有限的状态空间，可以用所有可能状态的概率值来表示置信度。但是如果状态空间是无限或连续，则置信度难以表示。\n",
    "\n",
    "通常有两种置信度的表示方法：\n",
    "1. 用多元正态分布来表示置信度。对应的滤波算法被称统称为**高斯滤波（Gaussian Filter）**。  \n",
    "2. 用粒子集来表示置信度。对应的滤波算法被称为**粒子滤波（Particle Filter）**。  "
   ]
  },
  {
   "cell_type": "markdown",
   "metadata": {
    "nbpresent": {
     "id": "6253da22-3250-4f0d-bfe5-6f4d3dea9c0f"
    }
   },
   "source": [
    "## 2. 卡尔曼滤波\n",
    "\n",
    "KF算法用**矩**来定义置信度，可以对连续状态的置信度进行计算，但是不适用于离散状态空间和混合状态空间。\n",
    "\n",
    "----\n",
    "1：**Algorithm Kalman_filter**$( \\mu, \\Sigma_{t-1}, u_t, z_t )$**:**  \n",
    "2：&emsp;&emsp;$\\overline \\mu_t = A_t \\mu_{t-1} + B_t u_t$  \n",
    "3：&emsp;&emsp;$\\overline \\Sigma_t = A_t \\Sigma_{t-1}A_t^T + R_t$  \n",
    "4：&emsp;&emsp;$K_t = \\overline \\Sigma_t C_t^T ( C_t \\overline \\Sigma_t C_t^T + Q_t)^{-1}$  \n",
    "5：&emsp;&emsp;$\\mu_t = \\overline \\mu_t + K_t (z_t - C_t \\overline \\mu_t)$  \n",
    "6：&emsp;&emsp;$\\Sigma_t = (I - K_t C_t) \\overline \\Sigma_t$  \n",
    "7：&emsp;&emsp;**return** ${\\mu_t, \\Sigma_t}$  \n",
    "\n",
    "----\n"
   ]
  },
  {
   "cell_type": "markdown",
   "metadata": {
    "nbpresent": {
     "id": "90169589-2064-43ec-8e07-f6e23439ac45"
    }
   },
   "source": [
    "## 3. Kalman Filter仿真\n",
    "\n",
    "\n",
    "### 3.1 仿真模型\n",
    "\n",
    "#### 3.1.1 问题描述\n",
    "\n",
    "假设有一个沿直线运动的机器人，每隔一个时间间隔$\\vartriangle t$，根据运动$u_t$对自己当前的状态进行预测（Predict），然后利用传感器获得的测量$z_t$对自己的状态进行更新（Update）。\n",
    "\n",
    "定义机器人的状态$x_t = \\begin{bmatrix}p_t \\\\ v_t \\end{bmatrix}$，其中$p_t$表示机器人的位置，$v_t$表示机器人的速度。\n",
    "\n",
    "#### 3.1.2 运动模型\n",
    "\n",
    "假设机器人可以控制其加速度$a$，则运动迁移方程可以写为：\n",
    "$$\\begin{align}\n",
    "p_t &= p_{t-1} + v_{t-1} \\triangle t + \\frac 12 a \\triangle t^2  \\\\\n",
    "v_t &= v_{t-1} + a \\triangle t\n",
    "\\end{align}$$\n",
    "\n",
    "把该方程改写为线性方程，可得：\n",
    "$$\\begin{align}\n",
    "x_t &= \\begin{bmatrix} p_t \\\\ v_t \\end{bmatrix} = \n",
    "\\begin{bmatrix} 1 & \\triangle t \\\\ 0 & 1 \\end{bmatrix} \\begin{bmatrix} p_{t-1} \\\\ v_{t-1} \\end{bmatrix} +\n",
    "\\begin{bmatrix} \\frac 12  \\triangle t^2 \\\\ \\triangle t \\end{bmatrix}  a + \\varepsilon_t\n",
    "\\\\\n",
    " &= A_t x_{t-1} + B_t u_t + \\varepsilon_t\n",
    "\\end{align}\n",
    "$$\n",
    "\n",
    "其中$\\varepsilon_t$是控制带来的噪声，假设加速度$a$包含有一个$\\sim N(\\mu , \\sigma_a^2)$的一个噪声。因此该噪声对机器人状态$x_t$带来的噪声可表示为：$ noise_u \\sim N(\\mu , R_t)$，其中$\\mu = (0, 0)^T$，$R_t = \\begin{bmatrix}\\frac 12 \\triangle t_2  & 0 \\\\ 0 & \\triangle t \\end{bmatrix} \\sigma_u^2$。\n",
    "\n",
    "#### 3.1.3 测量模型\n",
    "\n",
    "贝叶斯滤波的测量模型并不是使用后验概率$p(x \\, \\vert \\, z)$，而是用似然（likelihood）来进行计算。\n",
    "$$z_t = C_t x_t + \\delta_t $$\n",
    "\n",
    "假设该仿真模型中的机器人可以获得对当前位置的一个测量量$z_t$，因此可以得到测量模型为：\n",
    "$$\\begin{align}\n",
    "z_t &= p_t + \\delta_t \\\\\n",
    "   &= \\begin{bmatrix} 1 & 0 \\end{bmatrix} \\begin{bmatrix} p_t \\\\ v_t \\end{bmatrix} + \\delta_t \\\\\n",
    "   &= C_t x_t + \\delta_t   \n",
    "\\end{align}$$\n",
    "\n",
    "其中$\\delta_t$是测量的噪声，该噪声遵从一个均值为0的高斯分布$\\delta_t \\sim N( \\mu , \\sigma_z^2)$。"
   ]
  },
  {
   "cell_type": "markdown",
   "metadata": {},
   "source": [
    "## 3.2 仿真\n",
    "\n",
    "### 3.2.1 运动采样函数\n",
    "\n",
    "在仿真过程中，需要"
   ]
  }
 ],
 "metadata": {
  "anaconda-cloud": {},
  "kernelspec": {
   "display_name": "Python [Root]",
   "language": "python",
   "name": "Python [Root]"
  },
  "language_info": {
   "codemirror_mode": {
    "name": "ipython",
    "version": 3
   },
   "file_extension": ".py",
   "mimetype": "text/x-python",
   "name": "python",
   "nbconvert_exporter": "python",
   "pygments_lexer": "ipython3",
   "version": "3.5.2"
  },
  "nbpresent": {
   "slides": {
    "2ceb6f35-2dcb-44dc-b0c8-549c83597483": {
     "id": "2ceb6f35-2dcb-44dc-b0c8-549c83597483",
     "prev": "4240222d-c687-4a0c-9542-a8bc9c17f79b",
     "regions": {
      "4e063e52-c158-4dcd-9264-807faf0e6886": {
       "attrs": {
        "height": 0.8,
        "width": 0.8,
        "x": 0.1,
        "y": 0.1
       },
       "content": {
        "cell": "6253da22-3250-4f0d-bfe5-6f4d3dea9c0f",
        "part": "whole"
       },
       "id": "4e063e52-c158-4dcd-9264-807faf0e6886"
      }
     }
    },
    "4240222d-c687-4a0c-9542-a8bc9c17f79b": {
     "id": "4240222d-c687-4a0c-9542-a8bc9c17f79b",
     "prev": null,
     "regions": {
      "c977c08c-9983-47f1-9295-22593465d712": {
       "attrs": {
        "height": 0.8,
        "width": 0.8,
        "x": 0.1,
        "y": 0.1
       },
       "content": {
        "cell": "8513e6c5-cb59-4263-b065-2ff8fb13ca43",
        "part": "whole"
       },
       "id": "c977c08c-9983-47f1-9295-22593465d712"
      }
     }
    },
    "df3e1aec-ccfe-4573-91ae-aa84e9ced5e9": {
     "id": "df3e1aec-ccfe-4573-91ae-aa84e9ced5e9",
     "prev": "2ceb6f35-2dcb-44dc-b0c8-549c83597483",
     "regions": {
      "38f112b7-c34d-4105-a843-cbf102df60a4": {
       "attrs": {
        "height": 0.8,
        "width": 0.8,
        "x": 0.1,
        "y": 0.1
       },
       "content": {
        "cell": "90169589-2064-43ec-8e07-f6e23439ac45",
        "part": "whole"
       },
       "id": "38f112b7-c34d-4105-a843-cbf102df60a4"
      }
     }
    }
   },
   "themes": {
    "default": "91da5f51-0c3c-44f6-a273-bde47777980a",
    "theme": {}
   }
  }
 },
 "nbformat": 4,
 "nbformat_minor": 1
}
