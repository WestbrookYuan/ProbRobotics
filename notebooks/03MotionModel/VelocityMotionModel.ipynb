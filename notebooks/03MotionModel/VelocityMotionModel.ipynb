{
 "cells": [
  {
   "cell_type": "code",
   "execution_count": 1,
   "metadata": {
    "collapsed": true
   },
   "outputs": [],
   "source": [
    "import numpy as np\n",
    "import matplotlib.pyplot as plt\n",
    "from mpl_toolkits.mplot3d import Axes3D\n",
    "%matplotlib inline"
   ]
  },
  {
   "cell_type": "markdown",
   "metadata": {},
   "source": [
    "# 速度运动模型\n",
    "\n",
    "速度运动模型（Velocity Motion Model）认为可以通过两个速度：一个旋转的和一个平移的速度，来控制机器人。驱动系统通常是通过这种方式控制的，包括差分驱动、阿克曼驱动和同步驱动。*不包括没有非完整约束的驱动系统，如万向轮（Mecanum wheels）的机器人或有腿机器人。*\n",
    "\n",
    "用$\\upsilon_t$表示$t$时刻的平移速度（Translation Velocity），用$\\omega_t$表示旋转速度（Rotation Velocity）。因此，有：\n",
    "$$u_t = \\begin{bmatrix} \\upsilon_t \\\\ \\omega_t \\end{bmatrix}$$\n",
    "并规定，逆时针旋转为（向左转），$\\omega_t$为正；向前运动，$\\upsilon_t$为正。"
   ]
  },
  {
   "cell_type": "markdown",
   "metadata": {},
   "source": [
    "## 1. 精确的运动\n",
    "\n",
    "![](./img/velocity.jpg)\n",
    "> 从$(x \\quad y \\quad \\theta)^T$开始，并以恒定速度$\\upsilon$和$\\omega$运动的无噪声机器人完成的运动。\n",
    "\n",
    "令$u_t = (\\upsilon \\quad \\omega)^T$表示时刻$t$的控制，如果两种速度在整个时间间隔内$[t, t-1]$都是固定的值，则机器人以如下半径的圆运动：\n",
    "$$r = \\left| \\frac {\\upsilon}{\\omega} \\right|$$\n",
    "\n",
    "这是任意半径为$r$圆形轨迹运动的对象在平移速度$\\upsilon$和旋转速度$\\omega$之间都遵循的一般关系：\n",
    "$$\\upsilon = \\omega r$$\n",
    "\n",
    "**注意：**机器人根本不旋转（$\\omega = 0$）的情况，在这种情况下机器人沿直线运动，此时$r$为无穷大。\n",
    "\n",
    "令$x_{t-1} = (x \\, y \\, \\theta)^T$是机器人的初始位姿，并假定在$\\Delta t$时间内保持速度$(\\upsilon \\, \\omega)^T$恒定。很容易看出，圆的中心位于：\n",
    "$$x_c = x - \\frac {\\upsilon}{\\omega}sin \\theta$$\n",
    "\n",
    "$$y_c = y + \\frac {\\upsilon}{\\omega}cos \\theta$$\n",
    "\n",
    "变量$(x_c \\, y_c)^T$表示坐标。运动$\\Delta t$时间后，理想机器人将位于$x_t = (x' \\, y' \\, \\theta')^T$且：\n",
    "\n",
    "$$\\begin{bmatrix} x' \\\\ y' \\\\ \\theta' \\end{bmatrix} = \n",
    "\\begin{bmatrix} \n",
    "x_c + \\frac {\\upsilon}{\\omega} sin(\\theta + \\omega \\Delta t) \\\\ \n",
    "y_c - \\frac {\\upsilon}{\\omega} cos(\\theta + \\omega \\Delta t) \\\\\n",
    "\\theta + \\omega \\Delta t\n",
    "\\end{bmatrix} = \\begin{bmatrix} x \\\\ y \\\\ \\theta \\end{bmatrix} + \n",
    "\\begin{bmatrix}\n",
    "- \\frac {\\upsilon}{\\omega} sin \\theta + \\frac {\\upsilon}{\\omega} sin(\\theta + \\omega \\Delta t) \\\\ \n",
    "\\frac {\\upsilon}{\\omega} cos \\theta - \\frac {\\upsilon}{\\omega} cos(\\theta + \\omega \\Delta t) \\\\\n",
    "\\omega \\Delta t\n",
    "\\end{bmatrix}\n",
    "$$\n",
    "\n",
    "尽管真实的机器人不能从一个速度跳到下一个速度，也不能保证在每一个时间间隔内速度保持恒定，利用很小的时间间隔$\\Delta t$，在每一个时间间隔用一个常值近似真实的速度，是很常用的方法。"
   ]
  },
  {
   "cell_type": "markdown",
   "metadata": {},
   "source": [
    "## 2. 真实运动\n",
    "\n",
    "实际上，机器人的运动是受噪声的影响的。真实的速度与给定的速度是不同的。将这种不同建模成以$0$为中心的具有有限方差的随机变量。假定实际速度由下式给定：\n",
    "\n",
    "$$\n",
    "\\begin{bmatrix}\\hat \\upsilon \\\\ \\hat \\omega \\end{bmatrix} =\n",
    "\\begin{bmatrix}\\upsilon \\\\ \\omega \\end{bmatrix} +\n",
    "\\begin{bmatrix}\\varepsilon_{\\alpha_1 \\upsilon^2 + \\alpha_2 \\omega^2} \\\\\n",
    "\\varepsilon_{\\alpha_3 \\upsilon^2 + \\alpha_4 \\omega^2}\\end{bmatrix}\n",
    "$$\n",
    "\n",
    "$\\varepsilon_{\\sigma^2}$是一个方差为$\\sigma^2$，均值为$0$的误差变量。因此真实速度等于给定的速度加上一些小的，附加的误差（噪声）。在速度运动模型中，误差的标准偏差与给定速度成比例。参数$\\alpha_1 \\sim \\alpha_4 \\, ( \\alpha_i \\ge 0 , \\, i = 1, 2, \\cdots , 4)$是指定的机器人特定的误差参数。机器人的不确定性越大，这些参数就越大。\n",
    "\n",
    "因此，在$x_{t-1} = (x \\, y \\, \\theta)^T$执行完运动指令$u_t = (\\upsilon \\, \\omega)^T$后的真实位姿$x_t = (x' \\, y' \\, \\theta')^T$的较好模型为：\n",
    "\n",
    "$$\\begin{bmatrix} x' \\\\ y' \\\\ \\theta' \\end{bmatrix} = \n",
    "\\begin{bmatrix} x \\\\ y \\\\ \\theta \\end{bmatrix} + \n",
    "\\begin{bmatrix}\n",
    "- \\frac {\\hat \\upsilon}{\\hat \\omega} sin \\theta + \\frac {\\hat \\upsilon}{\\hat \\omega} sin(\\theta + \\hat \\omega \\Delta t) \\\\ \n",
    "\\frac {\\hat \\upsilon}{\\hat \\omega} cos \\theta - \\frac {\\hat \\upsilon}{\\hat \\omega} cos(\\theta + \\hat \\omega \\Delta t) \\\\\n",
    "\\hat \\omega \\Delta t\n",
    "\\end{bmatrix}\n",
    "$$\n",
    "\n",
    "但是这个模型仍然不太现实。"
   ]
  },
  {
   "cell_type": "markdown",
   "metadata": {},
   "source": [
    "## 3. 最终方向\n",
    "\n",
    "前面给出的两个方程都精确地描述了机器人真实地在一个半径为$r = \\frac {\\hat \\upsilon}{\\hat \\omega}$圆形轨迹上移动时的最终位置。但是圆形运动的假设导致了重大的退化。具体来说，密度$p(x_t \\, | \\, u_t, x_{t-1})$的支撑集是二维的，是三维位姿中的两维。这是因为仅使用了两个噪声变量$\\upsilon$和$\\omega$的直接结果。\n",
    "\n",
    "为了推广运动模型，假设机器人到达他的最终位姿时，旋转$\\hat \\gamma$。因此，通过下式建模最后的方向：\n",
    "\n",
    "$$\\theta' = \\theta + \\hat \\omega \\Delta t + \\hat \\gamma \\Delta t$$\n",
    "\n",
    "其中：\n",
    "\n",
    "$$\\hat \\gamma = \\varepsilon_{\\alpha_5 \\upsilon^2 + \\alpha_6 \\omega^2}$$\n",
    "\n",
    "这里$\\alpha_5$和$\\alpha_6$是确定附加的旋转噪声方差的额外的特定机器人参数。因此，得到的运动模型为：\n",
    "\n",
    "$$\\begin{bmatrix} x' \\\\ y' \\\\ \\theta' \\end{bmatrix} = \n",
    "\\begin{bmatrix} x \\\\ y \\\\ \\theta \\end{bmatrix} + \n",
    "\\begin{bmatrix}\n",
    "- \\frac {\\hat \\upsilon}{\\hat \\omega} sin \\theta + \\frac {\\hat \\upsilon}{\\hat \\omega} sin(\\theta + \\hat \\omega \\Delta t) \\\\ \n",
    "\\frac {\\hat \\upsilon}{\\hat \\omega} cos \\theta - \\frac {\\hat \\upsilon}{\\hat \\omega} cos(\\theta + \\hat \\omega \\Delta t) \\\\\n",
    "\\hat \\omega \\Delta t + \\hat \\gamma \\Delta t\n",
    "\\end{bmatrix}\n",
    "$$"
   ]
  },
  {
   "cell_type": "markdown",
   "metadata": {},
   "source": [
    "## 4. 采样函数"
   ]
  },
  {
   "cell_type": "code",
   "execution_count": 2,
   "metadata": {
    "collapsed": true
   },
   "outputs": [],
   "source": [
    "# 速度运动模型采样函数的向量版本——对粒子集进行采样\n",
    "# 参数：\n",
    "#   u1      - 运动控制包含两个分量：upsilon和omega\n",
    "#   X0      - 粒子集\n",
    "#   alpha   - 噪声系数\n",
    "#   delta_t - 时间间隔\n",
    "# 返回值：\n",
    "#   采样后的粒子集\n",
    "def sample_motion_model_velocity(u1, X0, alpha, delta_t=1):\n",
    "    \n",
    "    \n",
    "    # 确定输入的粒子集的粒子数量\n",
    "    M = X0.shape[0]\n",
    "    \n",
    "    # 生成随机噪声：upsilon，omega和gamma\n",
    "    upsilon = np.squeeze(u1)[0]\n",
    "    omega = np.squeeze(u1)[1]\n",
    "    upsilon_hat = upsilon + np.random.normal(loc=0, scale=np.sqrt(alpha[0] * upsilon ** 2 + alpha[1] * omega ** 2), size=(M, 1))\n",
    "    omega_hat = omega + np.random.normal(loc=0, scale=np.sqrt(alpha[2] * upsilon ** 2 + alpha[3] * omega ** 2), size=(M, 1))\n",
    "    gamma_hat = np.random.normal(loc=0, scale=np.sqrt(alpha[4] * upsilon ** 2 + alpha[5] * omega ** 2), size=(M, 1))\n",
    "    \n",
    "    # 分解位姿的三个维度\n",
    "    xs0 = X0[:,0].reshape((-1,1))\n",
    "    ys0 = X0[:,1].reshape((-1,1))\n",
    "    thetas0 = X0[:,2].reshape((-1,1))\n",
    "    \n",
    "    # 计算运动采样\n",
    "    r = upsilon_hat / omega_hat\n",
    "    xs1 = xs0 - r * np.sin(thetas0) + r * np.sin(thetas0 + omega_hat * delta_t)\n",
    "    ys1 = ys0 + r * np.cos(thetas0) - r * np.cos(thetas0 + omega_hat * delta_t)\n",
    "    thetas1 = thetas0 + omega_hat * delta_t + gamma_hat * delta_t\n",
    "    \n",
    "    # 堆叠粒子分量\n",
    "    X1 = np.hstack([xs1, ys1, thetas1])\n",
    "    \n",
    "    return X1"
   ]
  },
  {
   "cell_type": "markdown",
   "metadata": {},
   "source": [
    "### 运动角速度误差较大的情况："
   ]
  },
  {
   "cell_type": "code",
   "execution_count": 3,
   "metadata": {
    "collapsed": false
   },
   "outputs": [
    {
     "data": {
      "image/png": "[encoded data removed]",
      "text/plain": [
       "<matplotlib.figure.Figure at 0x23ddacd2e48>"
      ]
     },
     "metadata": {},
     "output_type": "display_data"
    }
   ],
   "source": [
    "x ,y , theta = 0, 0, 0\n",
    "v , w = 1, np.pi/4\n",
    "X = np.zeros((1000, 3)) + np.array([x, y, theta]).reshape((1, 3))\n",
    "u = np.array([v, w])\n",
    "\n",
    "# noise parameter of upsilon\n",
    "a1 = 0.0001\n",
    "a2 = 0.0001\n",
    "# noise parameter of omega\n",
    "a3 = 0.01\n",
    "a4 = 0.01\n",
    "# noise parameter of gamma\n",
    "a5 = 0.0001\n",
    "a6 = 0.0001\n",
    "\n",
    "\n",
    "alpha = [a1, a2, a3, a4, a5, a6]\n",
    "\n",
    "X1 = sample_motion_model_velocity(u, X, alpha)\n",
    "\n",
    "plt.figure(figsize=(4,4))\n",
    "# 绘制初始位姿和粒子群\n",
    "plt.scatter(X[0,0], X[0,1])\n",
    "plt.scatter(X1[:,0], X1[:,1], c='r', s=1, lw=0, alpha=0.5)\n",
    "\n",
    "# 绘制无噪声的运动轨迹\n",
    "# 圆心\n",
    "xc = x - v / w * np.sin(theta)\n",
    "yc = y + v / w * np.cos(theta)\n",
    "plt.scatter(xc, yc, s=20, c='g', lw=0)\n",
    "# 无噪声的终点\n",
    "x_end = xc + v / w * np.sin(theta + w)\n",
    "y_end = yc - v / w * np.cos(theta + w)\n",
    "plt.scatter(x_end, y_end, s=20, c='g', lw=1, edgecolors='w')\n",
    "# 绘制无噪声的运动轨迹圆弧\n",
    "xs = np.linspace(x, x_end,100)\n",
    "ys = yc - np.sqrt((v / w) ** 2 - (xs - xc) ** 2)\n",
    "plt.plot(xs, ys)\n",
    "\n",
    "plt.xlim((-.2, 1.4))\n",
    "plt.ylim((-.2, 1.4))\n",
    "plt.grid()"
   ]
  },
  {
   "cell_type": "markdown",
   "metadata": {},
   "source": [
    "### 运动速度速度误差较大的情况："
   ]
  },
  {
   "cell_type": "code",
   "execution_count": 4,
   "metadata": {
    "collapsed": false
   },
   "outputs": [
    {
     "data": {
      "image/png": "[encoded data removed]",
      "text/plain": [
       "<matplotlib.figure.Figure at 0x23ddb184828>"
      ]
     },
     "metadata": {},
     "output_type": "display_data"
    }
   ],
   "source": [
    "x ,y , theta = 0, 0, 0\n",
    "v , w = 1, np.pi/4\n",
    "X = np.zeros((1000, 3)) + np.array([x, y, theta]).reshape((1, 3))\n",
    "u = np.array([v, w])\n",
    "\n",
    "# noise parameter of upsilon\n",
    "a1 = 0.01\n",
    "a2 = 0.01\n",
    "# noise parameter of omega\n",
    "a3 = 0.0001\n",
    "a4 = 0.0001\n",
    "# noise parameter of gamma\n",
    "a5 = 0.0001\n",
    "a6 = 0.0001\n",
    "\n",
    "\n",
    "alpha = [a1, a2, a3, a4, a5, a6]\n",
    "\n",
    "X1 = sample_motion_model_velocity(u, X, alpha)\n",
    "\n",
    "plt.figure(figsize=(4,4))\n",
    "# 绘制初始位姿和粒子群\n",
    "plt.scatter(X[0,0], X[0,1])\n",
    "plt.scatter(X1[:,0], X1[:,1], c='r', s=1, lw=0, alpha=0.5)\n",
    "\n",
    "# 绘制无噪声的运动轨迹\n",
    "# 圆心\n",
    "xc = x - v / w * np.sin(theta)\n",
    "yc = y + v / w * np.cos(theta)\n",
    "plt.scatter(xc, yc, s=20, c='g', lw=0)\n",
    "# 无噪声的终点\n",
    "x_end = xc + v / w * np.sin(theta + w)\n",
    "y_end = yc - v / w * np.cos(theta + w)\n",
    "plt.scatter(x_end, y_end, s=20, c='g', lw=1, edgecolors='w')\n",
    "# 绘制无噪声的运动轨迹圆弧\n",
    "xs = np.linspace(x, x_end,100)\n",
    "ys = yc - np.sqrt((v / w) ** 2 - (xs - xc) ** 2)\n",
    "plt.plot(xs, ys)\n",
    "\n",
    "plt.xlim((-.2, 1.4))\n",
    "plt.ylim((-.2, 1.4))\n",
    "plt.grid()"
   ]
  },
  {
   "cell_type": "markdown",
   "metadata": {},
   "source": [
    "### 运动线速度和角速度误差都较大的情况："
   ]
  },
  {
   "cell_type": "code",
   "execution_count": 5,
   "metadata": {
    "collapsed": false
   },
   "outputs": [
    {
     "data": {
      "image/png": "[encoded data removed]",
      "text/plain": [
       "<matplotlib.figure.Figure at 0x23ddb18b240>"
      ]
     },
     "metadata": {},
     "output_type": "display_data"
    }
   ],
   "source": [
    "x ,y , theta = 0, 0, 0\n",
    "v , w = 1, np.pi/4\n",
    "X = np.zeros((1000, 3)) + np.array([x, y, theta]).reshape((1, 3))\n",
    "u = np.array([v, w])\n",
    "\n",
    "# noise parameter of upsilon\n",
    "a1 = 0.01\n",
    "a2 = 0.01\n",
    "# noise parameter of omega\n",
    "a3 = 0.01\n",
    "a4 = 0.01\n",
    "# noise parameter of gamma\n",
    "a5 = 0.0001\n",
    "a6 = 0.0001\n",
    "\n",
    "\n",
    "alpha = [a1, a2, a3, a4, a5, a6]\n",
    "\n",
    "X1 = sample_motion_model_velocity(u, X, alpha)\n",
    "\n",
    "plt.figure(figsize=(4,4))\n",
    "# 绘制初始位姿和粒子群\n",
    "plt.scatter(X[0,0], X[0,1])\n",
    "plt.scatter(X1[:,0], X1[:,1], c='r', s=1, lw=0, alpha=0.5)\n",
    "\n",
    "# 绘制无噪声的运动轨迹\n",
    "# 圆心\n",
    "xc = x - v / w * np.sin(theta)\n",
    "yc = y + v / w * np.cos(theta)\n",
    "plt.scatter(xc, yc, s=20, c='g', lw=0)\n",
    "# 无噪声的终点\n",
    "x_end = xc + v / w * np.sin(theta + w)\n",
    "y_end = yc - v / w * np.cos(theta + w)\n",
    "plt.scatter(x_end, y_end, s=20, c='g', lw=1, edgecolors='w')\n",
    "# 绘制无噪声的运动轨迹圆弧\n",
    "xs = np.linspace(x, x_end,100)\n",
    "ys = yc - np.sqrt((v / w) ** 2 - (xs - xc) ** 2)\n",
    "plt.plot(xs, ys)\n",
    "\n",
    "plt.xlim((-.2, 1.4))\n",
    "plt.ylim((-.2, 1.4))\n",
    "plt.grid()"
   ]
  },
  {
   "cell_type": "code",
   "execution_count": 6,
   "metadata": {
    "collapsed": false,
    "scrolled": true
   },
   "outputs": [
    {
     "data": {
      "image/png": "[encoded data removed]",
      "text/plain": [
       "<matplotlib.figure.Figure at 0x23ddacc56d8>"
      ]
     },
     "metadata": {},
     "output_type": "display_data"
    }
   ],
   "source": [
    "# 运动后，机器人位姿中角度分量的直方图分布\n",
    "h, b = np.histogram(X1[:,2],bins=30)\n",
    "bm = (b[:-1] + b[1:]) / 2\n",
    "plt.plot(bm, h)\n",
    "plt.grid()"
   ]
  },
  {
   "cell_type": "markdown",
   "metadata": {},
   "source": [
    "## 5. $p(x_t \\, | \\, u_t, x_{t-1})$的计算\n",
    "\n",
    "需要使用逆运动模型，从位姿$x_{t-1}$和$x_t$及最终的近似旋转$\\hat \\gamma$，来确定运动参数${\\widehat {u}}_t = ({\\widehat {\\upsilon}} \\, {\\widehat {\\omega}} )^T$。对几乎所有的$x_{t-1}$、$x_t$和$u_t$的值，如果不考虑最终旋转，运动概率很容易为零。\n",
    "\n",
    "计算在时间单元$\\Delta t$内，控制作用$u_t = (\\upsilon \\, \\omega)^T$下将机器人位姿从$x_{t-1} = (x \\, y \\, \\theta )^T$变成位姿$x_t = (x' \\, y' \\, \\theta')^T$的概率$p(x_t \\, | \\, u_t, x_{t-1})$。\n",
    "\n",
    "1. 首先将机器人从位姿$x_{t-1}$变到位置$(x' \\, y')$，而不管机器人最终方向时所需的控制。\n",
    "2. 确定机器人要获得最终方向$\\theta'$需要最终旋转的$\\hat \\gamma$。\n",
    "3. 计算出想要的$p(x_t \\, | \\, u_t, x_{t-1})$。"
   ]
  },
  {
   "cell_type": "markdown",
   "metadata": {},
   "source": [
    "### 5.1 计算逆运动模型中的运动控制\n",
    "\n",
    "假设机器人在$\\Delta t$内移动速度是恒定的，形成一个圆形的轨迹。对一个从$x_{t-1} = (x \\, y \\, \\theta)^T$移动到$x_t = (x' \\, y')^T$的机器人，圆的中心定义为$(x^* \\, y^*)^T$，由下式给出：\n",
    "$$\\begin{bmatrix} x^* \\\\ y^* \\end{bmatrix} = \n",
    "\\begin{bmatrix} x \\\\ y \\end{bmatrix} + \n",
    "\\begin{bmatrix} - \\lambda sin \\theta \\\\ \\lambda cos \\theta \\end{bmatrix} =\n",
    "\\begin{bmatrix}\n",
    "\\frac {x + x'}{2} + \\mu (y - y') \\\\\n",
    "\\frac {y + y'}{2} + \\mu (x' - x)\n",
    "\\end{bmatrix}\n",
    "$$\n",
    "1. 第一个等式表示：圆心与机器人初始方向正交。\n",
    "2. 第二个等式表示：圆心位于一条射线上，该射线过$(x \\, y)^T$和$(x' \\, y')^T$中点，并与两坐标之间的连线正交。\n",
    "\n",
    "除了退化的情况（$\\omega = 0$），上式有唯一解：\n",
    "$$ \\mu = \\frac 12 \\frac\n",
    "{(x - x') cos \\theta + (y - y') sin \\theta}\n",
    "{(y - y') cos \\theta - (x - x') sin \\theta}\n",
    "$$\n",
    "因此有：\n",
    "$$\\begin{bmatrix} x^* \\\\ y^* \\end{bmatrix} =\n",
    "\\begin{bmatrix}\n",
    "\\frac {x + x'}{2} + \\frac 12 \\frac\n",
    "{(x - x') cos \\theta + (y - y') sin \\theta}\n",
    "{(y - y') cos \\theta - (x - x') sin \\theta}\n",
    "(y - y') \\\\\n",
    "\\frac {y + y'}{2} + \\frac 12 \\frac\n",
    "{(x - x') cos \\theta + (y - y') sin \\theta}\n",
    "{(y - y') cos \\theta - (x - x') sin \\theta}\n",
    "(x' - x)\n",
    "\\end{bmatrix}\n",
    "$$\n",
    "\n",
    "圆的半径可以由欧拉距离给定：\n",
    "$$r^* = \\sqrt{(x - x^*)^2+(y - y^*)^2} = \\sqrt{(x' - x^*)^2+(y' - y^*)^2}$$\n",
    "\n",
    "则方向的变化为：\n",
    "$$\\Delta \\theta = atan2(y' - y^*, x' - x^*) - atan2(y - y^*, x - x^*)$$\n",
    "\n",
    "其中$atan2$与$atan$的差别为：\n",
    "1. $atan$函数根据斜率值计算角度，其取值范围为$-90^\\circ \\sim +90^\\circ$，因此只能处理第一象限和第四象限的夹角。\n",
    "2. $atan2$函数接受两个参数，返回值是与$x$轴正方向的夹角，这样就可以处理四个象限的任意情况了，它的值域是$-180^\\circ \\sim +180^\\circ$。\n",
    "\n",
    "$atan2$的函数实现为：\n",
    "$$\n",
    "atan2(y,x) = \\begin{cases}\n",
    "atan(y/x) & x > 0 \\\\\n",
    "sign(y)(\\pi - atan(|y/x|)) & x < 0 \\\\\n",
    "0 & x = y = 0 \\\\\n",
    "sign(y) \\pi / 2 & x=0,y \\ne 0\n",
    "\\end{cases}\n",
    "$$\n",
    "\n",
    "由于假定机器人遵循一个圆形柜机，沿该圆在$x_t$和$x_{t-1}$之间的平移距离为$\\Delta dist$：\n",
    "$$\\Delta dist = r^* \\Delta \\theta$$\n",
    "\n",
    "可以很容易地计算速度$\\widehat \\upsilon$和$\\widehat \\omega$：\n",
    "$$\\widehat u_t = \\begin{bmatrix} \\widehat \\upsilon \\\\ \\widehat \\omega \\end{bmatrix} = \n",
    "\\Delta t^{-1} \\begin{bmatrix} \\Delta dist \\\\ \\Delta \\theta \\end{bmatrix}$$"
   ]
  },
  {
   "cell_type": "markdown",
   "metadata": {
    "collapsed": true
   },
   "source": [
    "### 5.2 计算逆运动模型中的旋转速度\n",
    "\n",
    "由于：\n",
    "$$\\theta' = \\theta + \\widehat \\omega \\Delta t + \\widehat \\gamma \\Delta t$$\n",
    "\n",
    "可得：\n",
    "$$\\widehat \\gamma = \\Delta t^{-1} (\\theta' - \\theta) - \\widehat \\omega$$"
   ]
  },
  {
   "cell_type": "markdown",
   "metadata": {},
   "source": [
    "### 5.3 计算误差概率\n",
    "\n",
    "运动误差来自于$\\hat u_t$和$\\widehat \\gamma$与给定速度$u_t = (\\upsilon \\, \\omega)^T$和$\\gamma = 0$的偏差：\n",
    "$$\\begin{align}\n",
    "\\upsilon_{err} &= \\upsilon - \\widehat \\upsilon \\\\\n",
    "\\omega_{err} &= \\omega - \\widehat \\omega \\\\\n",
    "\\gamma_{err} &= \\widehat \\gamma\n",
    "\\end{align}$$\n",
    "\n",
    "在指定的误差模型下，这些误差都具有如下的概率：\n",
    "$$\\begin{align}\n",
    "\\varepsilon_{\\alpha_1 \\upsilon^2 + \\alpha_2 \\omega^2}(\\upsilon_{err}) \\\\\n",
    "\\varepsilon_{\\alpha_3 \\upsilon^2 + \\alpha_4 \\omega^2}(\\omega_{err}) \\\\\n",
    "\\varepsilon_{\\alpha_5 \\upsilon^2 + \\alpha_6 \\omega^2}(\\gamma_{err}) \\\\\n",
    "\\end{align}$$\n",
    "\n",
    "其中$\\varepsilon_{b^2}$是一个方差为$b^2$，均值为$0$的误差变量。概率$p(x_t \\, | \\, u_t, x_{t-1})$就是这几个误差的乘积：\n",
    "$$p(x_t \\, | \\, u_t, x_{t-1}) = \n",
    "\\varepsilon_{\\alpha_1 \\upsilon^2 + \\alpha_2 \\omega^2}(\\upsilon_{err}) \\centerdot \n",
    "\\varepsilon_{\\alpha_3 \\upsilon^2 + \\alpha_4 \\omega^2}(\\omega_{err}) \\centerdot \n",
    "\\varepsilon_{\\alpha_5 \\upsilon^2 + \\alpha_6 \\omega^2}(\\gamma_{err}) \\centerdot \n",
    "$$"
   ]
  },
  {
   "cell_type": "code",
   "execution_count": 7,
   "metadata": {
    "collapsed": false
   },
   "outputs": [],
   "source": [
    "# 正态分布概率密度函数\n",
    "def prob_normal_distribution(x, sigma2):\n",
    "    esp = 1e-60\n",
    "    p =  ((2 * np.pi * sigma2) ** 0.5) * np.exp(- 0.5 * x**2 / sigma2)\n",
    "    p[np.isnan(p)] = esp\n",
    "    p[p < esp] = esp\n",
    "    return p\n",
    "\n",
    "def motion_model_velocity(X1, u, X0, alphas, delta_t=1):\n",
    "    esp = 1e-10\n",
    "    # 将X1、u、X0分解为向量\n",
    "    xs0 = X0[:,0].reshape((-1,1))\n",
    "    ys0 = X0[:,1].reshape((-1,1))\n",
    "    thetas0 = X0[:,2].reshape((-1,1))\n",
    "    \n",
    "    xs1 = X1[:,0].reshape((-1,1))\n",
    "    ys1 = X1[:,1].reshape((-1,1))\n",
    "    thetas1 = X1[:,2].reshape((-1,1))\n",
    "    \n",
    "    upsilon = np.squeeze(u)[0]\n",
    "    omega = upsilon = np.squeeze(u)[1]\n",
    "    \n",
    "    # 步骤1: 计算逆运动控制模型的运动控制\n",
    "    mu = 0.5 * \\\n",
    "        ((xs0 - xs1) * np.cos(thetas0) + (ys0 - ys1) * np.sin(thetas0)) /  \\\n",
    "        ((ys0 - ys1) * np.cos(thetas0) - (xs0 - xs1) * np.sin(thetas0) + esp)\n",
    "    x_inv = (xs0 + xs1) / 2 + mu * (ys0 - ys1)\n",
    "    y_inv = (ys0 + ys1) / 2 + mu * (xs1 - xs0)\n",
    "    radius_inv = np.sqrt((xs0 - x_inv) ** 2 + (ys0 - y_inv) ** 2)\n",
    "    delta_theta = np.arctan2(ys1 - y_inv, xs1 - x_inv + esp) - \\\n",
    "                    np.arctan2(ys0 - y_inv, xs0 - x_inv + esp)\n",
    "    \n",
    "    # 步骤2：计算运动噪声来源\n",
    "    upsilon_inv = delta_theta * radius_inv / delta_t\n",
    "    omega_inv = delta_theta / delta_t\n",
    "    gamma_inv = (thetas1 - thetas0) / delta_t - omega_inv\n",
    "    \n",
    "    # 步骤3：计算概率\n",
    "    err_upsilon = upsilon - upsilon_inv\n",
    "    var_upsilon = alphas[0] * upsilon ** 2 + alphas[1] * omega ** 2\n",
    "    \n",
    "    err_omega = omega - omega_inv\n",
    "    var_omega = alphas[2] * upsilon ** 2 + alphas[3] * omega ** 2\n",
    "    \n",
    "    err_gamma = gamma_inv\n",
    "    var_gamma = alphas[4] * upsilon ** 2 + alphas[5] * omega ** 2\n",
    "    \n",
    "    # 计算概率\n",
    "    return prob_normal_distribution(err_upsilon, var_upsilon) * \\\n",
    "           prob_normal_distribution(err_omega, var_omega) * \\\n",
    "           prob_normal_distribution(err_gamma, var_gamma)"
   ]
  },
  {
   "cell_type": "code",
   "execution_count": 8,
   "metadata": {
    "collapsed": false
   },
   "outputs": [
    {
     "data": {
      "text/plain": [
       "<matplotlib.image.AxesImage at 0x23ddb1fdd30>"
      ]
     },
     "execution_count": 8,
     "metadata": {},
     "output_type": "execute_result"
    },
    {
     "data": {
      "image/png": "[encoded data removed]",
      "text/plain": [
       "<matplotlib.figure.Figure at 0x23ddb22af98>"
      ]
     },
     "metadata": {},
     "output_type": "display_data"
    }
   ],
   "source": [
    "N = 100\n",
    "x ,y , theta = 0, 0, 0\n",
    "v , w = 1, np.pi/4\n",
    "X0 = np.zeros((N**2, 3)) + np.array([x, y, theta]).reshape((1, 3))\n",
    "u = np.array([v, w])\n",
    "\n",
    "# noise parameter of upsilon\n",
    "a1 = 0.01\n",
    "a2 = 0.01\n",
    "# noise parameter of omega\n",
    "a3 = 0.01\n",
    "a4 = 0.01\n",
    "# noise parameter of gamma\n",
    "a5 = 0.0001\n",
    "a6 = 0.0001\n",
    "alpha = [a1, a2, a3, a4, a5, a6]\n",
    "\n",
    "xs, ys = np.meshgrid(np.linspace(0.5, 1.5, N), np.linspace(0, 1, N))\n",
    "tensor0 = np.zeros((N, N, 2))\n",
    "tensor0[:,:,0] = xs\n",
    "tensor0[:,:,1] = ys\n",
    "\n",
    "X1 = np.hstack([tensor0.reshape((-1,2)), np.zeros((N ** 2, 1)) + w + theta])\n",
    "\n",
    "ps = motion_model_velocity(X1, u, X0, alpha)\n",
    "\n",
    "ps_matrix = ps.reshape((N, N))\n",
    "# 绘制初始位姿和粒子群\n",
    "\n",
    "plt.imshow(ps_matrix, cmap='gray', interpolation='none')\n",
    "\n",
    "# fig = plt.figure('3D surface')\n",
    "# ax = fig.add_subplot(1, 1, 1, projection='3d')\n",
    "# ax.plot_surface(xs, ys, ps_matrix, alpha=0.7, cmap='winter', rstride=1, cstride=1, lw=0)\n",
    "# # ax.scatter3D(xs, ys, ps_matrix, s=1, lw=0)"
   ]
  }
 ],
 "metadata": {
  "anaconda-cloud": {},
  "kernelspec": {
   "display_name": "Python [Root]",
   "language": "python",
   "name": "Python [Root]"
  },
  "language_info": {
   "codemirror_mode": {
    "name": "ipython",
    "version": 3
   },
   "file_extension": ".py",
   "mimetype": "text/x-python",
   "name": "python",
   "nbconvert_exporter": "python",
   "pygments_lexer": "ipython3",
   "version": "3.5.2"
  }
 },
 "nbformat": 4,
 "nbformat_minor": 1
}
