{
 "cells": [
  {
   "cell_type": "code",
   "execution_count": 1,
   "metadata": {
    "collapsed": true
   },
   "outputs": [],
   "source": [
    "import numpy as np\n",
    "import matplotlib.pyplot as plt\n",
    "%matplotlib inline"
   ]
  },
  {
   "cell_type": "markdown",
   "metadata": {},
   "source": [
    "# 速度运动模型\n",
    "\n",
    "速度运动模型（Velocity Motion Model）认为可以通过两个速度：一个旋转的和一个平移的速度，来控制机器人。驱动系统通常是通过这种方式控制的，包括差分驱动、阿克曼驱动和同步驱动。*不包括没有非完整约束的驱动系统，如万向轮（Mecanum wheels）的机器人或有腿机器人。*\n",
    "\n",
    "用$\\upsilon_t$表示$t$时刻的平移速度（Translation Velocity），用$\\omega_t$表示旋转速度（Rotation Velocity）。因此，有：\n",
    "$$u_t = \\begin{bmatrix} \\upsilon_t \\\\ \\omega_t \\end{bmatrix}$$\n",
    "并规定，逆时针旋转为（向左转），$\\omega_t$为正；向前运动，$\\upsilon_t$为正。"
   ]
  },
  {
   "cell_type": "markdown",
   "metadata": {},
   "source": [
    "## 1. 精确的运动\n",
    "\n",
    "![](./img/velocity.jpg)\n",
    "> 从$(x \\quad y \\quad \\theta)^T$开始，并以恒定速度$\\upsilon$和$\\omega$运动的无噪声机器人完成的运动。\n",
    "\n",
    "令$u_t = (\\upsilon \\quad \\omega)^T$表示时刻$t$的控制，如果两种速度在整个时间间隔内$[t, t-1]$都是固定的值，则机器人以如下半径的圆运动：\n",
    "$$r = \\left| \\frac {\\upsilon}{\\omega} \\right|$$\n",
    "\n",
    "这是任意半径为$r$圆形轨迹运动的对象在平移速度$\\upsilon$和旋转速度$\\omega$之间都遵循的一般关系：\n",
    "$$\\upsilon = \\omega r$$\n",
    "\n",
    "**注意：**机器人根本不旋转（$\\omega = 0$）的情况，在这种情况下机器人沿直线运动，此时$r$为无穷大。\n",
    "\n",
    "令$x_{t-1} = (x \\, y \\, \\theta)^T$是机器人的初始位姿，并假定在$\\Delta t$时间内保持速度$(\\upsilon \\, \\omega)^T$恒定。很容易看出，圆的中心位于：\n",
    "$$x_c = x - \\frac {\\upsilon}{\\omega}sin \\theta$$\n",
    "\n",
    "$$y_c = y + \\frac {\\upsilon}{\\omega}cos \\theta$$\n",
    "\n",
    "变量$(x_c \\, y_c)^T$表示坐标。运动$\\Delta t$时间后，理想机器人将位于$x_t = (x' \\, y' \\, \\theta')^T$且：\n",
    "\n",
    "$$\\begin{bmatrix} x' \\\\ y\\ \\\\ \\theta' \\end{bmatrix} = \n",
    "\\begin{bmatrix} \n",
    "x_c + \\frac {\\upsilon}{\\omega} sin(\\theta + \\omega \\Delta t) \\\\ \n",
    "y_c - \\frac {\\upsilon}{\\omega} cos(\\theta + \\omega \\Delta t) \\\\\n",
    "\\theta + \\omega \\Delta t\n",
    "\\end{bmatrix} = \\begin{bmatrix} x \\\\ y \\\\ \\theta \\end{bmatrix} + \n",
    "\\begin{bmatrix}\n",
    "- \\frac {\\upsilon}{\\omega} sin \\theta + \\frac {\\upsilon}{\\omega} sin(\\theta + \\omega \\Delta t) \\\\ \n",
    "\\frac {\\upsilon}{\\omega} cos \\theta - \\frac {\\upsilon}{\\omega} cos(\\theta + \\omega \\Delta t) \\\\\n",
    "\\omega \\Delta t\n",
    "\\end{bmatrix}\n",
    "$$\n",
    "\n",
    "尽管真实的机器人不能从一个速度跳到下一个速度，也不能保证在每一个时间间隔内速度保持恒定，利用很小的时间间隔$\\Delta t$，在每一个时间间隔用一个常值近似真实的速度，是很常用的方法。"
   ]
  },
  {
   "cell_type": "markdown",
   "metadata": {},
   "source": [
    "## 2. 真实运动\n",
    "\n"
   ]
  }
 ],
 "metadata": {
  "anaconda-cloud": {},
  "kernelspec": {
   "display_name": "Python [conda root]",
   "language": "python",
   "name": "conda-root-py"
  },
  "language_info": {
   "codemirror_mode": {
    "name": "ipython",
    "version": 3
   },
   "file_extension": ".py",
   "mimetype": "text/x-python",
   "name": "python",
   "nbconvert_exporter": "python",
   "pygments_lexer": "ipython3",
   "version": "3.5.2"
  }
 },
 "nbformat": 4,
 "nbformat_minor": 1
}
