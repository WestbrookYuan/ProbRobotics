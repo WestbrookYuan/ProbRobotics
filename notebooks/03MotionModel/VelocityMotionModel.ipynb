{
 "cells": [
  {
   "cell_type": "code",
   "execution_count": 1,
   "metadata": {
    "collapsed": true
   },
   "outputs": [],
   "source": [
    "import numpy as np\n",
    "import matplotlib.pyplot as plt\n",
    "%matplotlib inline"
   ]
  },
  {
   "cell_type": "markdown",
   "metadata": {},
   "source": [
    "# 速度运动模型\n",
    "\n",
    "速度运动模型（Velocity Motion Model）认为可以通过两个速度：一个旋转的和一个平移的速度，来控制机器人。驱动系统通常是通过这种方式控制的，包括差分驱动、阿克曼驱动和同步驱动。*不包括没有非完整约束的驱动系统，如万向轮（Mecanum wheels）的机器人或有腿机器人。*\n",
    "\n",
    "用$\\upsilon_t$表示$t$时刻的平移速度（Translation Velocity），用$\\omega_t$表示旋转速度（Rotation Velocity）。因此，有：\n",
    "$$u_t = \\begin{bmatrix} \\upsilon_t \\\\ \\omega_t \\end{bmatrix}$$\n",
    "并规定，逆时针旋转为（向左转），$\\omega_t$为正；向前运动，$\\upsilon_t$为正。"
   ]
  },
  {
   "cell_type": "markdown",
   "metadata": {},
   "source": [
    "## 1. 精确的运动\n",
    "\n",
    "![](./img/velocity.jpg)\n",
    "> 从$(x \\quad y \\quad \\theta)^T$开始，并以恒定速度$\\upsilon$和$\\omega$运动的无噪声机器人完成的运动。\n",
    "\n",
    "令$u_t = (\\upsilon \\quad \\omega)^T$表示时刻$t$的控制，如果两种速度在整个时间间隔内$[t, t-1]$都是固定的值，则机器人以如下半径的圆运动：\n",
    "$$r = \\left| \\frac {\\upsilon}{\\omega} \\right|$$\n",
    "\n",
    "这是任意半径为$r$圆形轨迹运动的对象在平移速度$\\upsilon$和旋转速度$\\omega$之间都遵循的一般关系：\n",
    "$$\\upsilon = \\omega r$$\n",
    "\n",
    "**注意：**机器人根本不旋转（$\\omega = 0$）的情况，在这种情况下机器人沿直线运动，此时$r$为无穷大。\n",
    "\n",
    "令$x_{t-1} = (x \\, y \\, \\theta)^T$是机器人的初始位姿，并假定在$\\Delta t$时间内保持速度$(\\upsilon \\, \\omega)^T$恒定。很容易看出，圆的中心位于：\n",
    "$$x_c = x - \\frac {\\upsilon}{\\omega}sin \\theta$$\n",
    "\n",
    "$$y_c = y + \\frac {\\upsilon}{\\omega}cos \\theta$$\n",
    "\n",
    "变量$(x_c \\, y_c)^T$表示坐标。运动$\\Delta t$时间后，理想机器人将位于$x_t = (x' \\, y' \\, \\theta')^T$且：\n",
    "\n",
    "$$\\begin{bmatrix} x' \\\\ y' \\\\ \\theta' \\end{bmatrix} = \n",
    "\\begin{bmatrix} \n",
    "x_c + \\frac {\\upsilon}{\\omega} sin(\\theta + \\omega \\Delta t) \\\\ \n",
    "y_c - \\frac {\\upsilon}{\\omega} cos(\\theta + \\omega \\Delta t) \\\\\n",
    "\\theta + \\omega \\Delta t\n",
    "\\end{bmatrix} = \\begin{bmatrix} x \\\\ y \\\\ \\theta \\end{bmatrix} + \n",
    "\\begin{bmatrix}\n",
    "- \\frac {\\upsilon}{\\omega} sin \\theta + \\frac {\\upsilon}{\\omega} sin(\\theta + \\omega \\Delta t) \\\\ \n",
    "\\frac {\\upsilon}{\\omega} cos \\theta - \\frac {\\upsilon}{\\omega} cos(\\theta + \\omega \\Delta t) \\\\\n",
    "\\omega \\Delta t\n",
    "\\end{bmatrix}\n",
    "$$\n",
    "\n",
    "尽管真实的机器人不能从一个速度跳到下一个速度，也不能保证在每一个时间间隔内速度保持恒定，利用很小的时间间隔$\\Delta t$，在每一个时间间隔用一个常值近似真实的速度，是很常用的方法。"
   ]
  },
  {
   "cell_type": "markdown",
   "metadata": {},
   "source": [
    "## 2. 真实运动\n",
    "\n",
    "实际上，机器人的运动是受噪声的影响的。真实的速度与给定的速度是不同的。将这种不同建模成以$0$为中心的具有有限方差的随机变量。假定实际速度由下式给定：\n",
    "\n",
    "$$\n",
    "\\begin{bmatrix}\\hat \\upsilon \\\\ \\hat \\omega \\end{bmatrix} =\n",
    "\\begin{bmatrix}\\upsilon \\\\ \\omega \\end{bmatrix} +\n",
    "\\begin{bmatrix}\\varepsilon_{\\alpha_1 \\upsilon^2 + \\alpha_2 \\omega^2} \\\\\n",
    "\\varepsilon_{\\alpha_3 \\upsilon^2 + \\alpha_4 \\omega^2}\\end{bmatrix}\n",
    "$$\n",
    "\n",
    "$\\varepsilon_{\\sigma^2}$是一个方差为$\\sigma^2$，均值为$0$的误差变量。因此真实速度等于给定的速度加上一些小的，附加的误差（噪声）。在速度运动模型中，误差的标准偏差与给定速度成比例。参数$\\alpha_1 \\sim \\alpha_4 \\, ( \\alpha_i \\ge 0 , \\, i = 1, 2, \\cdots , 4)$是指定的机器人特定的误差参数。机器人的不确定性越大，这些参数就越大。\n",
    "\n",
    "因此，在$x_{t-1} = (x \\, y \\, \\theta)^T$执行完运动指令$u_t = (\\upsilon \\, \\omega)^T$后的真实位姿$x_t = (x' \\, y' \\, \\theta')^T$的较好模型为：\n",
    "\n",
    "$$\\begin{bmatrix} x' \\\\ y' \\\\ \\theta' \\end{bmatrix} = \n",
    "\\begin{bmatrix} x \\\\ y \\\\ \\theta \\end{bmatrix} + \n",
    "\\begin{bmatrix}\n",
    "- \\frac {\\hat \\upsilon}{\\hat \\omega} sin \\theta + \\frac {\\hat \\upsilon}{\\hat \\omega} sin(\\theta + \\hat \\omega \\Delta t) \\\\ \n",
    "\\frac {\\hat \\upsilon}{\\hat \\omega} cos \\theta - \\frac {\\hat \\upsilon}{\\hat \\omega} cos(\\theta + \\hat \\omega \\Delta t) \\\\\n",
    "\\hat \\omega \\Delta t\n",
    "\\end{bmatrix}\n",
    "$$\n",
    "\n",
    "但是这个模型仍然不太现实。"
   ]
  },
  {
   "cell_type": "markdown",
   "metadata": {},
   "source": [
    "## 3. 最终方向\n",
    "\n",
    "前面给出的两个方程都精确地描述了机器人真实地在一个半径为$r = \\frac {\\hat \\upsilon}{\\hat \\omega}$圆形轨迹上移动时的最终位置。但是圆形运动的假设导致了重大的退化。具体来说，密度$p(x_t \\, | \\, u_t, x_{t-1})$的支撑集是二维的，是三维位姿中的两维。这是因为仅使用了两个噪声变量$\\upsilon$和$\\omega$的直接结果。\n",
    "\n",
    "为了推广运动模型，假设机器人到达他的最终位姿时，旋转$\\hat \\gamma$。因此，通过下式建模最后的方向：\n",
    "\n",
    "$$\\theta' = \\theta + \\hat \\omega \\Delta t + \\hat \\gamma \\Delta t$$\n",
    "\n",
    "其中：\n",
    "\n",
    "$$\\hat \\gamma = \\varepsilon_{\\alpha_5 \\upsilon^2 + \\alpha_6 \\omega^2}$$\n",
    "\n",
    "这里$\\alpha_5$和$\\alpha_6$是确定附加的旋转噪声方差的额外的特定机器人参数。因此，得到的运动模型为：\n",
    "\n",
    "$$\\begin{bmatrix} x' \\\\ y' \\\\ \\theta' \\end{bmatrix} = \n",
    "\\begin{bmatrix} x \\\\ y \\\\ \\theta \\end{bmatrix} + \n",
    "\\begin{bmatrix}\n",
    "- \\frac {\\hat \\upsilon}{\\hat \\omega} sin \\theta + \\frac {\\hat \\upsilon}{\\hat \\omega} sin(\\theta + \\hat \\omega \\Delta t) \\\\ \n",
    "\\frac {\\hat \\upsilon}{\\hat \\omega} cos \\theta - \\frac {\\hat \\upsilon}{\\hat \\omega} cos(\\theta + \\hat \\omega \\Delta t) \\\\\n",
    "\\hat \\omega \\Delta t + \\hat \\gamma \\Delta t\n",
    "\\end{bmatrix}\n",
    "$$"
   ]
  },
  {
   "cell_type": "markdown",
   "metadata": {},
   "source": [
    "## 4. 采样函数"
   ]
  },
  {
   "cell_type": "code",
   "execution_count": 14,
   "metadata": {
    "collapsed": true
   },
   "outputs": [],
   "source": [
    "# 速度运动模型采样函数的向量版本——对粒子集进行采样\n",
    "# 参数：\n",
    "#   u1      - 运动控制包含两个分量：upsilon和omega\n",
    "#   X0      - 粒子集\n",
    "#   alpha   - 噪声系数\n",
    "#   delta_t - 时间间隔\n",
    "# 返回值：\n",
    "#   采样后的粒子集\n",
    "def sample_motion_model_velocity(u1, X0, alpha, delta_t=1):\n",
    "    \n",
    "    \n",
    "    # 确定输入的粒子集的粒子数量\n",
    "    M = X0.shape[0]\n",
    "    \n",
    "    # 生成随机噪声：upsilon，omega和gamma\n",
    "    upsilon = np.squeeze(u1)[0]\n",
    "    omega = np.squeeze(u1)[1]\n",
    "    upsilon_hat = upsilon + np.random.normal(loc=0, scale=np.sqrt(alpha[0] * upsilon ** 2 + alpha[1] * omega ** 2), size=(M, 1))\n",
    "    omega_hat = omega + np.random.normal(loc=0, scale=np.sqrt(alpha[2] * upsilon ** 2 + alpha[3] * omega ** 2), size=(M, 1))\n",
    "    gamma_hat = np.random.normal(loc=0, scale=np.sqrt(alpha[4] * upsilon ** 2 + alpha[5] * omega ** 2), size=(M, 1))\n",
    "    \n",
    "    # 分解位姿的三个维度\n",
    "    xs0 = X0[:,0].reshape((-1,1))\n",
    "    ys0 = X0[:,1].reshape((-1,1))\n",
    "    thetas0 = X0[:,2].reshape((-1,1))\n",
    "    \n",
    "    # 计算运动采样\n",
    "    r = upsilon_hat / omega_hat\n",
    "    xs1 = xs0 - r * np.sin(thetas0) + r * np.sin(thetas0 + omega_hat * delta_t)\n",
    "    ys1 = ys0 + r * np.cos(thetas0) - r * np.cos(thetas0 + omega_hat * delta_t)\n",
    "    thetas1 = thetas0 + omega_hat * delta_t + gamma_hat * delta_t\n",
    "    \n",
    "    # 堆叠粒子分量\n",
    "    X1 = np.hstack([xs1, ys1, thetas1])\n",
    "    \n",
    "    return X1"
   ]
  },
  {
   "cell_type": "code",
   "execution_count": 52,
   "metadata": {
    "collapsed": false
   },
   "outputs": [
    {
     "data": {
      "text/plain": [
       "<matplotlib.collections.PathCollection at 0x17f42503be0>"
      ]
     },
     "execution_count": 52,
     "metadata": {},
     "output_type": "execute_result"
    },
    {
     "data": {
      "image/png": "[encoded data removed]",
      "text/plain": [
       "<matplotlib.figure.Figure at 0x17f42456048>"
      ]
     },
     "metadata": {},
     "output_type": "display_data"
    }
   ],
   "source": [
    "X = np.zeros((1000, 3)) + np.array([1, 1, np.pi/6]).reshape((1, 3))\n",
    "u = np.array([1, np.pi/4])\n",
    "a1 = 0.0001\n",
    "a2 = 0.0001\n",
    "a3 = 0.01\n",
    "a4 = 0.01\n",
    "a5 = 0.0001\n",
    "a6 = 0.0001\n",
    "alpha = [a1, a2, a3, a4, a5, a6]\n",
    "X1 = sample_motion_model_velocity(u, X, alpha)\n",
    "\n",
    "plt.scatter(X[0,0], X[0,1])\n",
    "plt.scatter(X1[:,0], X1[:,1], c='r', s=5, lw=0, alpha=0.2)"
   ]
  }
 ],
 "metadata": {
  "anaconda-cloud": {},
  "kernelspec": {
   "display_name": "Python [Root]",
   "language": "python",
   "name": "Python [Root]"
  },
  "language_info": {
   "codemirror_mode": {
    "name": "ipython",
    "version": 3
   },
   "file_extension": ".py",
   "mimetype": "text/x-python",
   "name": "python",
   "nbconvert_exporter": "python",
   "pygments_lexer": "ipython3",
   "version": "3.5.2"
  }
 },
 "nbformat": 4,
 "nbformat_minor": 1
}
