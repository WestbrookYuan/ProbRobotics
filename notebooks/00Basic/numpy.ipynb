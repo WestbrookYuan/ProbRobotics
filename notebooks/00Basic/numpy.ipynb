{
 "cells": [
  {
   "cell_type": "markdown",
   "metadata": {
    "nbpresent": {
     "id": "9552bdb0-4282-4788-b4a7-75063c91f777"
    }
   },
   "source": [
    "# Python的科学计算包 - Numpy\n",
    "\n",
    "**Numerical Python extensions**是一个第三方的Python包，用于科学计算。目前已经成为绝大部分Python科学计算的基础包。\n",
    "\n",
    "https://zhuanlan.zhihu.com/p/24309547\n",
    "\n",
    "----"
   ]
  },
  {
   "cell_type": "markdown",
   "metadata": {
    "nbpresent": {
     "id": "7e00b98b-6787-42f9-98a5-f52bf1155fce"
    }
   },
   "source": [
    "## 1. 基本类型（Array）\n",
    "\n",
    "在Numpy中可以非常方便的创建各种不同类型的张量（Tensor），并且执行一些基本操作。"
   ]
  },
  {
   "cell_type": "code",
   "execution_count": 1,
   "metadata": {
    "collapsed": true
   },
   "outputs": [],
   "source": [
    "# 按照惯例，numpy使用别名np\n",
    "import numpy as np"
   ]
  },
  {
   "cell_type": "code",
   "execution_count": 2,
   "metadata": {
    "collapsed": false,
    "nbpresent": {
     "id": "05e3d6b8-f5e8-4885-9d7a-73d90cf606e7"
    }
   },
   "outputs": [
    {
     "data": {
      "text/plain": [
       "numpy.ndarray"
      ]
     },
     "execution_count": 2,
     "metadata": {},
     "output_type": "execute_result"
    }
   ],
   "source": [
    "# 用列表生成numpy的数组\n",
    "a = [1, 2, 3, 4]\n",
    "b = np.array(a)\n",
    "type(b)"
   ]
  },
  {
   "cell_type": "code",
   "execution_count": 6,
   "metadata": {
    "collapsed": false
   },
   "outputs": [
    {
     "data": {
      "text/plain": [
       "(4,)"
      ]
     },
     "execution_count": 6,
     "metadata": {},
     "output_type": "execute_result"
    }
   ],
   "source": [
    "# 输出数组的形状\n",
    "b.shape"
   ]
  },
  {
   "cell_type": "code",
   "execution_count": 11,
   "metadata": {
    "collapsed": false
   },
   "outputs": [
    {
     "data": {
      "text/plain": [
       "3"
      ]
     },
     "execution_count": 11,
     "metadata": {},
     "output_type": "execute_result"
    }
   ],
   "source": [
    "# 返回最大的索引值\n",
    "b.argmax()"
   ]
  },
  {
   "cell_type": "code",
   "execution_count": null,
   "metadata": {
    "collapsed": true
   },
   "outputs": [],
   "source": []
  }
 ],
 "metadata": {
  "kernelspec": {
   "display_name": "Python [Root]",
   "language": "python",
   "name": "Python [Root]"
  },
  "language_info": {
   "codemirror_mode": {
    "name": "ipython",
    "version": 3
   },
   "file_extension": ".py",
   "mimetype": "text/x-python",
   "name": "python",
   "nbconvert_exporter": "python",
   "pygments_lexer": "ipython3",
   "version": "3.5.2"
  },
  "nbpresent": {
   "slides": {
    "196e9bf0-9269-41ba-82b0-30d13a917bc8": {
     "id": "196e9bf0-9269-41ba-82b0-30d13a917bc8",
     "prev": "2389b3a2-f5f0-4dad-a5ca-cef87bab28bf",
     "regions": {
      "c7ce761e-7067-4878-8cc9-177090997fcf": {
       "attrs": {
        "height": 0.8,
        "width": 0.8,
        "x": 0.1,
        "y": 0.1
       },
       "content": {
        "cell": "7e00b98b-6787-42f9-98a5-f52bf1155fce",
        "part": "whole"
       },
       "id": "c7ce761e-7067-4878-8cc9-177090997fcf"
      }
     }
    },
    "2389b3a2-f5f0-4dad-a5ca-cef87bab28bf": {
     "id": "2389b3a2-f5f0-4dad-a5ca-cef87bab28bf",
     "prev": null,
     "regions": {
      "edbd95ba-9d59-43a8-a54a-9d2a9fc24d50": {
       "attrs": {
        "height": 0.8,
        "width": 0.8,
        "x": 0.1,
        "y": 0.1
       },
       "content": {
        "cell": "9552bdb0-4282-4788-b4a7-75063c91f777",
        "part": "whole"
       },
       "id": "edbd95ba-9d59-43a8-a54a-9d2a9fc24d50"
      }
     },
     "theme": null
    },
    "6afbade4-8b91-4ead-9ad4-d2bf8ad804fd": {
     "id": "6afbade4-8b91-4ead-9ad4-d2bf8ad804fd",
     "prev": "196e9bf0-9269-41ba-82b0-30d13a917bc8",
     "regions": {
      "26b160ae-c64f-4518-abfb-66e2883a7732": {
       "attrs": {
        "height": 0.8,
        "width": 0.8,
        "x": 0.1,
        "y": 0.1
       },
       "content": {
        "cell": "05e3d6b8-f5e8-4885-9d7a-73d90cf606e7",
        "part": "whole"
       },
       "id": "26b160ae-c64f-4518-abfb-66e2883a7732"
      }
     }
    }
   },
   "themes": {}
  }
 },
 "nbformat": 4,
 "nbformat_minor": 0
}
