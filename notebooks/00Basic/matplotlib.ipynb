{
 "cells": [
  {
   "cell_type": "markdown",
   "metadata": {},
   "source": [
    "# Python的可视化包——Matplotlib\n",
    "\n",
    "Matplotlib是Python中最常用的可视化工具之一，可以非常方便的创建各种图表。\n",
    "\n",
    "官网：[http://matplotlib.org](http://matplotlib.org)\n",
    "\n",
    "----\n",
    "\n",
    "## 1. Matplotlib的加载\n",
    "\n",
    "如果要在jupyter notebook中交互式的使用matplotlib的绘图，需要加上以下命令：\n",
    "```\n",
    "%matplotlib inline\n",
    "```\n",
    "按照惯例：matplotlib的别名为mpl，matplotlib.pyplot的别名为plt。"
   ]
  },
  {
   "cell_type": "code",
   "execution_count": 1,
   "metadata": {
    "collapsed": false
   },
   "outputs": [],
   "source": [
    "import numpy as np\n",
    "import matplotlib as mpl\n",
    "import matplotlib.pyplot as plt\n",
    "%matplotlib inline"
   ]
  },
  {
   "cell_type": "code",
   "execution_count": null,
   "metadata": {
    "collapsed": true
   },
   "outputs": [],
   "source": [
    "# 可以使用rcParams来设置一些全局参数\n"
   ]
  },
  {
   "cell_type": "code",
   "execution_count": 2,
   "metadata": {
    "collapsed": false
   },
   "outputs": [
    {
     "data": {
      "text/plain": [
       "[<matplotlib.lines.Line2D at 0x10e7fb4a8>]"
      ]
     },
     "execution_count": 2,
     "metadata": {},
     "output_type": "execute_result"
    },
    {
     "data": {
      "image/png": "[encoded data removed]",
      "text/plain": [
       "<matplotlib.figure.Figure at 0x10c12ecc0>"
      ]
     },
     "metadata": {},
     "output_type": "display_data"
    }
   ],
   "source": [
    "np.random.seed(42)\n",
    "\n",
    "# x轴的采样点\n",
    "x = np.linspace(0, 5, 100)\n",
    "\n",
    "# 通过下面曲线加上噪声生成数据，所以拟合模型就用y了……\n",
    "y = 2*np.sin(x) + 0.3*x**2\n",
    "y_data = y + np.random.normal(scale=0.3, size=100)\n",
    "\n",
    "# figure()指定图表名称\n",
    "plt.figure('data')\n",
    "\n",
    "# '.'标明画散点图，每个散点的形状是个圆\n",
    "plt.plot(x, y_data, '.')"
   ]
  },
  {
   "cell_type": "code",
   "execution_count": null,
   "metadata": {
    "collapsed": true
   },
   "outputs": [],
   "source": []
  }
 ],
 "metadata": {
  "anaconda-cloud": {},
  "kernelspec": {
   "display_name": "Python [conda root]",
   "language": "python",
   "name": "conda-root-py"
  },
  "language_info": {
   "codemirror_mode": {
    "name": "ipython",
    "version": 3
   },
   "file_extension": ".py",
   "mimetype": "text/x-python",
   "name": "python",
   "nbconvert_exporter": "python",
   "pygments_lexer": "ipython3",
   "version": "3.5.2"
  }
 },
 "nbformat": 4,
 "nbformat_minor": 1
}
