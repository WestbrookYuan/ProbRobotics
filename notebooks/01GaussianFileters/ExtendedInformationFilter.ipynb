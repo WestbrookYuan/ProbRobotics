{
 "cells": [
  {
   "cell_type": "code",
   "execution_count": 2,
   "metadata": {
    "collapsed": true
   },
   "outputs": [],
   "source": [
    "import numpy as np\n",
    "import matplotlib.pyplot as plt\n",
    "%matplotlib inline"
   ]
  },
  {
   "cell_type": "code",
   "execution_count": 3,
   "metadata": {
    "collapsed": true
   },
   "outputs": [],
   "source": [
    "# 读取数据集：no-filter数据、ground-truth数据集、运动控制U、测量集合Z\n",
    "X_no_filter = np.load('./dataset/no_filter.npy')\n",
    "X_ground_truth = np.load('./dataset/ground_truth.npy')\n",
    "U = np.load('./dataset/u.npy')\n",
    "Z = np.load('./dataset/z.npy')"
   ]
  },
  {
   "cell_type": "markdown",
   "metadata": {},
   "source": [
    "# 扩展信息滤波算法\n",
    "\n",
    "\n",
    "----\n",
    "1：**Algorithm Extended_information_filter**$( \\xi_{t-1}, \\Omega_{t-1}, u_t, z_t )$**:**  \n",
    "\n",
    "2：&emsp;&emsp;$\\mu_{t-1} = \\Omega_{t-1}^{-1} \\xi_{t-1}$  \n",
    "\n",
    "3：&emsp;&emsp;$\\bar{\\Omega}_t = (G_t \\Omega_{t-1}^{-1} G_t^T + R_t)^{-1}$  \n",
    "\n",
    "4：&emsp;&emsp;$\\bar{\\xi}_t = \\bar{\\Omega}_t g(u_t, \\mu_{t-1})$    \n",
    "\n",
    "5：&emsp;&emsp;$\\bar{\\mu}_t = g(u_t, \\mu_{t-1})$  \n",
    "\n",
    "6：&emsp;&emsp;$\\Omega_t = \\bar{\\Omega}_t + H_t^T Q_t^{-1} H_t$  \n",
    "\n",
    "7：&emsp;&emsp;$\\xi_t = \\bar{\\xi}_t + H_t^T Q_t^{-1} [ z_t - h(\\bar\\mu_t) + H_t \\bar\\mu_t]$  \n",
    "\n",
    "8：&emsp;&emsp;**return** ${\\xi_t, \\Omega_t}$  \n",
    "\n",
    "----\n"
   ]
  }
 ],
 "metadata": {
  "anaconda-cloud": {},
  "kernelspec": {
   "display_name": "Python [conda root]",
   "language": "python",
   "name": "conda-root-py"
  },
  "language_info": {
   "codemirror_mode": {
    "name": "ipython",
    "version": 3
   },
   "file_extension": ".py",
   "mimetype": "text/x-python",
   "name": "python",
   "nbconvert_exporter": "python",
   "pygments_lexer": "ipython3",
   "version": "3.5.2"
  }
 },
 "nbformat": 4,
 "nbformat_minor": 1
}
