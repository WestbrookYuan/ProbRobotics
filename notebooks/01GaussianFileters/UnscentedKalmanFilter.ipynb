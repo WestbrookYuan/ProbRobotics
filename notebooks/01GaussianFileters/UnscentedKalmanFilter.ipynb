{
 "cells": [
  {
   "cell_type": "code",
   "execution_count": 1,
   "metadata": {
    "collapsed": true
   },
   "outputs": [],
   "source": [
    "import numpy as np\n",
    "import matplotlib.pyplot as plt\n",
    "%matplotlib inline"
   ]
  },
  {
   "cell_type": "code",
   "execution_count": 2,
   "metadata": {
    "collapsed": false
   },
   "outputs": [],
   "source": [
    "# 读取数据集：no-filter数据、ground-truth数据集、运动控制U、测量集合Z\n",
    "X_no_filter = np.load('./dataset/no_filter.npy')\n",
    "X_ground_truth = np.load('./dataset/ground_truth.npy')\n",
    "U = np.load('./dataset/u.npy')\n",
    "Z = np.load('./dataset/z.npy')"
   ]
  },
  {
   "cell_type": "markdown",
   "metadata": {
    "collapsed": false
   },
   "source": [
    "# 无迹卡尔曼滤波\n",
    "\n",
    "## 1. 无迹变换\n",
    "\n",
    "无迹卡尔曼滤波通过无迹变换（Unscented Transform）来线性化。它不是通过泰勒级数展开去近似函数$g$，而是由UKF明确地从高斯中提取所谓的$\\sigma$点，并将他们经过函数$g$进行变换。\n",
    "\n",
    "通常情况下，这些$\\sigma$点位于均值处及对称分布于主轴的协方差处（每维两个）。对于具有均值$\\mu$和$\\Sigma$的$n$维高斯分布，结果$2n+1$个$\\sigma$点$\\chi^{[i]}$根据如下规律进行选择：\n",
    "$$\\begin{align}\n",
    "\\chi^{[0]} &= \\mu \\\\\n",
    "\\chi^{[i]} &= \\mu + (\\sqrt{(n + \\lambda ) \\Sigma})_i & i=1, \\cdots , n \\\\\n",
    "\\chi^{[i]} &= \\mu - (\\sqrt{(n + \\lambda ) \\Sigma})_{i-n} & i=n+1, \\cdots , 2n\n",
    "\\end{align}$$\n",
    "\n",
    "式中，$\\lambda = \\alpha^2 (n + \\kappa) - n$，$\\alpha$和$\\kappa$为确定$\\sigma$点分布在均值多远范围内的比例参数。\n",
    "\n",
    "每个$\\sigma$点$\\chi^{[i]}$有两个与之相关的权值。一个权值$\\omega_m^{[i]}$，计算均值的时候使用。另一个权值$\\omega_c^{[i]}$，计算高斯的协方差时使用。\n",
    "$$\\begin{align}\n",
    "\\omega_m^{[0]} &= \\frac {\\lambda}{n+ \\lambda } \\\\\n",
    "\\omega_c^{[0]} &= \\frac {\\lambda}{n+ \\lambda } + ( 1 - \\alpha^2 + \\beta ) \\\\\n",
    "\\omega_m^{[i]} &= \\omega_c^{[i]} = \\frac {1}{2(n+ \\lambda )} \\quad where \\quad i = 1, \\cdots , 2n \\\\\n",
    "\\end{align}$$\n",
    "\n",
    "选择参数$\\beta$对高斯表示的附加的（较高阶）分布信息进行编码。如果分布是精确的高斯分布，则$\\beta = 2$是最佳选择。\n",
    "\n",
    "$\\sigma$点经过函数$g$变换，来探测$g$如何改变了高斯分布的形状。\n",
    "$$y^{[i]} = g(\\chi^{[i]})$$\n",
    "\n",
    "结果高斯分布的参数$(\\mu' , \\Sigma')$由映射的$\\sigma$点$y^{[i]}$获得：\n",
    "$$\\begin{align}\n",
    "\\mu' &= \\sum_{i=0}^{2n} \\omega_m^{[i]} y^{[i]} \\\\\n",
    "\\Sigma' &= \\sum_{i=0}^{2n} \\omega_c^{[i]} (y^{[i]} - \\mu')(y^{[i]} - \\mu')^T\n",
    "\\end{align}$$"
   ]
  },
  {
   "cell_type": "markdown",
   "metadata": {},
   "source": [
    "## 2. 无迹卡尔曼滤波算法\n",
    "\n",
    "----\n",
    "01: **Algorithm Unscented_Kalman_filter**$( \\mu_{t-1}, \\Sigma_{t-1}, u_t, z_t )$**:**  \n",
    "\n",
    "02: &emsp;&emsp;$\\chi_{t-1} = ( \\mu_{t-1} \\quad \\mu_{t-1} + \\gamma \\sqrt{\\Sigma_{t-1}} \\quad \\mu_{t-1} - \\gamma \\sqrt{\\Sigma_{t-1}})$  \n",
    "\n",
    "03: &emsp;&emsp;$\\bar{\\chi}_t^* = g(\\mu_t, \\chi_{t-1})$  \n",
    "\n",
    "04: &emsp;&emsp;$\\bar{\\mu}_t = \\sum_{i=0}^{2n} \\omega_m^{[i]} \\bar{\\chi}_t^{*[i]}$  \n",
    "\n",
    "05: &emsp;&emsp;$\\bar{\\Sigma}_t = \\sum_{i=0}^{2n} \\omega_c^{[i]} (\\bar{\\chi}_t^{*[i]} - \\bar{\\mu}_t)(\\bar{\\chi}_t^{*[i]} - \\bar{\\mu}_t)^T + R_t$  \n",
    "\n",
    "06: &emsp;&emsp;$\\bar{\\chi}_t = ( \\bar{\\mu}_t \\quad \\bar{\\mu}_t + \\gamma \\sqrt{\\bar{\\Sigma}_t} \\quad \\bar{\\mu}_t - \\gamma \\sqrt{\\bar{\\Sigma}_t})$  \n",
    "\n",
    "07: &emsp;&emsp;$\\bar Z_t = h(\\bar{\\chi}_t)$  \n",
    "\n",
    "08: &emsp;&emsp;$\\widehat{z}_t = \\sum_{i=0}^{2n} \\omega_m^{[i]} \\bar Z_t^{[i]}$  \n",
    "\n",
    "09: &emsp;&emsp;$S_t = \\sum_{i=0}^{2n} \\omega_c^{[i]} (\\bar Z_t^{[i]} - \\widehat z_t) (\\bar Z_t^{[i]} - \\widehat z_t)^T + Q_t$  \n",
    "\n",
    "10: &emsp;&emsp;$\\bar{\\Sigma}_t^{x,z} = \\sum_{i=0}^{2n} \\omega_c^{[i]} (\\bar {\\chi}_t^{[i]} - \\bar {\\mu}_t)(\\bar {Z}_t^{[i]} - \\widehat {z}_t)^T$  \n",
    "\n",
    "11: &emsp;&emsp;$K_t = \\bar {\\Sigma}_t^{x,z} S_t^{-1}$  \n",
    "\n",
    "12: &emsp;&emsp;$\\mu_t = \\bar {\\mu}_t + K_t (z_t - \\widehat z_t)$  \n",
    "\n",
    "13: &emsp;&emsp;$\\Sigma_t = \\bar {\\Sigma}_t - K_t S_t K_t^T$  \n",
    "\n",
    "14: &emsp;&emsp;**return**$\\quad \\mu_t , \\Sigma_t$  \n",
    "\n",
    "----"
   ]
  },
  {
   "cell_type": "code",
   "execution_count": 3,
   "metadata": {
    "collapsed": false
   },
   "outputs": [
    {
     "data": {
      "text/plain": [
       "0.7999999999999998"
      ]
     },
     "execution_count": 3,
     "metadata": {},
     "output_type": "execute_result"
    }
   ],
   "source": [
    "# 设定UKF的超参数\n",
    "\n",
    "# 状态Xt的维度\n",
    "n_ukf = 3\n",
    "\n",
    "# alpha和kappa为确定sigma点分布在均值多远范围内的的比例参数\n",
    "alpha_ukf = 1.0\n",
    "kappa_ukf = 0.8\n",
    "\n",
    "# 计算有alpha和kappa确定的超参数lambda_ukf\n",
    "lambda_ukf = alpha_ukf ** 2 * (n_ukf + kappa_ukf) - n_ukf\n",
    "\n",
    "# 根据lambda的值计算gamma的值\n",
    "gamma_ukf = np.sqrt(n_ukf + lambda_ukf)\n",
    "\n",
    "# 超参数beta参与生成协方差的系数，对高斯表示的附加的（高阶）信息进行编码。\n",
    "# 如果分布是精确地高斯分布，则beta=2是较好的选择\n",
    "beta_ukf = 2.0\n",
    "\n",
    "lambda_ukf"
   ]
  },
  {
   "cell_type": "code",
   "execution_count": 4,
   "metadata": {
    "collapsed": false
   },
   "outputs": [
    {
     "data": {
      "text/plain": [
       "(array([[ 0.21052632],\n",
       "        [ 0.13157895],\n",
       "        [ 0.13157895],\n",
       "        [ 0.13157895],\n",
       "        [ 0.13157895],\n",
       "        [ 0.13157895],\n",
       "        [ 0.13157895]]), array([[ 2.21052632],\n",
       "        [ 0.13157895],\n",
       "        [ 0.13157895],\n",
       "        [ 0.13157895],\n",
       "        [ 0.13157895],\n",
       "        [ 0.13157895],\n",
       "        [ 0.13157895]]))"
      ]
     },
     "execution_count": 4,
     "metadata": {},
     "output_type": "execute_result"
    }
   ],
   "source": [
    "# 生成均值与协方差系数\n",
    "# 涉及UKF算法的第4/5/8/9/10行\n",
    "def weight_sigmaPoint_ukf():\n",
    "    weight = 0.5 / (n_ukf + lambda_ukf)\n",
    "    weight_mean = np.ones(1 + n_ukf * 2) * weight\n",
    "    weight_cov  = np.ones(1 + n_ukf * 2) * weight\n",
    "    weight_mean[0] = lambda_ukf / (lambda_ukf + n_ukf)\n",
    "    weight_cov[0]  = lambda_ukf / (lambda_ukf + n_ukf) + (1 - alpha_ukf ** 2 + beta_ukf)\n",
    "    return weight_mean.reshape((-1,1)), weight_cov.reshape((-1,1))\n",
    "\n",
    "# test code\n",
    "weight_sigmaPoint_ukf()"
   ]
  },
  {
   "cell_type": "code",
   "execution_count": 5,
   "metadata": {
    "collapsed": false,
    "scrolled": true
   },
   "outputs": [
    {
     "data": {
      "text/plain": [
       "array([[ 0.        ,  0.        ,  0.78539816],\n",
       "       [ 1.95636433, -1.19110151,  0.74549493],\n",
       "       [ 1.61535726,  2.70366259, -0.72097732],\n",
       "       [ 1.0785451 ,  1.63446805,  4.8755376 ],\n",
       "       [-1.95636433,  1.19110151,  0.8253014 ],\n",
       "       [-1.61535726, -2.70366259,  2.29177365],\n",
       "       [-1.0785451 , -1.63446805, -3.30474128]])"
      ]
     },
     "execution_count": 5,
     "metadata": {},
     "output_type": "execute_result"
    }
   ],
   "source": [
    "# 通过均值mu和协方差矩阵Sigma产生sigma点集，点集以(n_ukf * 2 + 1) by 3的矩阵形式返回\n",
    "# 涉及UKF算法的第2/6行\n",
    "def generate_sigma_points(mu, sigma):\n",
    "    # 将mu的形状重新调整为向量\n",
    "    mu = np.squeeze(mu).reshape((1,3))\n",
    "    \n",
    "    # 计算sigma矩阵的平方根\n",
    "    e, v = np.linalg.eigh(sigma)\n",
    "    sqrt_sigma = np.dot(v, np.diag(np.sqrt(e)))\n",
    "    \n",
    "    # 为了便于计算，根据返回矩阵的格式，将sigma矩阵平方根进行转置\n",
    "    sqrt_sigma = sqrt_sigma.T\n",
    "    \n",
    "    # 生成正方向的sigma点\n",
    "    positive_sigma_points = mu + gamma_ukf * sqrt_sigma\n",
    "    negative_sigma_points = mu - gamma_ukf * sqrt_sigma\n",
    "    \n",
    "    sigma_points = np.vstack([mu , positive_sigma_points, negative_sigma_points])\n",
    "    \n",
    "    return sigma_points\n",
    "\n",
    "# test code\n",
    "m = np.array([2, 1, .5, 1,3,0.7,.5,0.7,5]).reshape((3, 3))\n",
    "generate_sigma_points(np.array([0, 0, np.pi/4]), m)"
   ]
  },
  {
   "cell_type": "markdown",
   "metadata": {},
   "source": [
    "运动模型：\n",
    "\n",
    "假设机器人的运动控制是向前移动$u_t$个单位，因此移动后机器人的期望位置将为：\n",
    "$$\\begin{bmatrix}\n",
    "x' \\\\ y' \\\\ \\theta'\n",
    "\\end{bmatrix} = \\begin{bmatrix}\n",
    "x + u_t cos \\theta \\\\ y + u_t sin \\theta \\\\ \\theta\n",
    "\\end{bmatrix}$$"
   ]
  },
  {
   "cell_type": "code",
   "execution_count": 6,
   "metadata": {
    "collapsed": false
   },
   "outputs": [
    {
     "data": {
      "text/plain": [
       "array([[ 1.41421356,  1.41421356,  0.78539816],\n",
       "       [ 3.42586886,  0.16556958,  0.74549493],\n",
       "       [ 3.11767914,  1.38342436, -0.72097732],\n",
       "       [ 1.40339673, -0.33897347,  4.8755376 ],\n",
       "       [-0.59969324,  2.66060604,  0.8253014 ],\n",
       "       [-2.93559549, -1.20134071,  2.29177365],\n",
       "       [-3.05198661, -1.30961642, -3.30474128]])"
      ]
     },
     "execution_count": 6,
     "metadata": {},
     "output_type": "execute_result"
    }
   ],
   "source": [
    "# 运动迁移方程的向量化版本\n",
    "# 涉及UKF算法的第3行\n",
    "def motion_model(sigma_points, u):\n",
    "    xs = sigma_points[:,0].reshape((-1,1))\n",
    "    ys = sigma_points[:,1].reshape((-1,1))\n",
    "    thetas = sigma_points[:,2].reshape((-1,1))\n",
    "    \n",
    "    xs_motion = xs + u * np.cos(thetas)\n",
    "    ys_motion = ys + u * np.sin(thetas)\n",
    "    thetas_motion = thetas\n",
    "    \n",
    "    sigma_points_motion = np.hstack([xs_motion, ys_motion, thetas_motion])\n",
    "    return sigma_points_motion\n",
    "\n",
    "# test code\n",
    "motion_model(generate_sigma_points(np.array([0, 0, np.pi/4]), m),2)"
   ]
  },
  {
   "cell_type": "markdown",
   "metadata": {},
   "source": [
    "测量模型：\n",
    "$$h(\\begin{bmatrix} x \\\\ y \\\\ \\theta \\end{bmatrix}) = \n",
    "\\begin{bmatrix} z_{distance} \\\\ z_{\\theta} \\end{bmatrix} = \n",
    "\\begin{bmatrix} \\sqrt{x^2 + y^2} \\\\ \\theta \\end{bmatrix} $$"
   ]
  },
  {
   "cell_type": "code",
   "execution_count": 7,
   "metadata": {
    "collapsed": false,
    "scrolled": true
   },
   "outputs": [
    {
     "data": {
      "text/plain": [
       "array([[ 0.        ,  0.78539816],\n",
       "       [ 2.29043319,  0.74549493],\n",
       "       [ 3.14947146, -0.72097732],\n",
       "       [ 1.95825058,  4.8755376 ],\n",
       "       [ 2.29043319,  0.8253014 ],\n",
       "       [ 3.14947146,  2.29177365],\n",
       "       [ 1.95825058, -3.30474128]])"
      ]
     },
     "execution_count": 7,
     "metadata": {},
     "output_type": "execute_result"
    }
   ],
   "source": [
    "# 测量模型的向量化版本\n",
    "# 涉及UKF算法的第7行\n",
    "def measurement_model(sigma_points):\n",
    "    xs = sigma_points[:,0].reshape((-1,1))\n",
    "    ys = sigma_points[:,1].reshape((-1,1))\n",
    "    thetas = sigma_points[:,2].reshape((-1,1))\n",
    "    \n",
    "    z_distance = np.sqrt(xs ** 2 + ys ** 2)\n",
    "    z_theta = thetas\n",
    "    \n",
    "    sigma_points_measurement = np.hstack([z_distance, z_theta])\n",
    "    return sigma_points_measurement\n",
    "    \n",
    "measurement_model(generate_sigma_points(np.array([0, 0, np.pi/4]), m))"
   ]
  },
  {
   "cell_type": "code",
   "execution_count": 32,
   "metadata": {
    "collapsed": false
   },
   "outputs": [
    {
     "data": {
      "text/plain": [
       "(array([[ 0.24225468],\n",
       "        [ 0.23786789],\n",
       "        [ 0.72846889]]), array([[ 0.1289187 ,  0.02573776, -0.00660487],\n",
       "        [ 0.02573776,  0.1289187 ,  0.00660487],\n",
       "        [-0.00660487,  0.00660487,  0.17142857]]))"
      ]
     },
     "execution_count": 32,
     "metadata": {},
     "output_type": "execute_result"
    }
   ],
   "source": [
    "# 定义UKF算法\n",
    "def unscented_kalman_filter(mu, Sigma, u, z):\n",
    "    # 计算sigma点的系数\n",
    "    weight_m, weight_c = weight_sigmaPoint_ukf()\n",
    "    \n",
    "    # line 2\n",
    "    sigma_points_original = generate_sigma_points(mu, Sigma)\n",
    "    \n",
    "    # line 3\n",
    "    sigma_points_motion_model = motion_model(sigma_points_original, u)\n",
    "    \n",
    "    # line 4\n",
    "    mu_after_motion = np.sum(weight_m * sigma_points_motion_model, axis=0, keepdims=True).T\n",
    "    \n",
    "    # line 5\n",
    "    R = np.diag([0.09, 0.09, 0.09])\n",
    "    temp = sigma_points_motion_model - mu_after_motion.T\n",
    "    Sigma_after_motion = np.dot((weight_c * temp).T, temp) + R\n",
    "    \n",
    "    # line 6\n",
    "    sigma_points_before_measure = generate_sigma_points(mu_after_motion,\n",
    "                                                      Sigma_after_motion)\n",
    "    \n",
    "    # line 7\n",
    "    z_sigma_points_after_measure = measurement_model(sigma_points_before_measure)\n",
    "    \n",
    "    # line 8\n",
    "    z_hat = np.sum(weight_m * z_sigma_points_after_measure, axis=0, keepdims=True).T\n",
    "    \n",
    "    # line 9\n",
    "    Q = np.diag([0.04, 0.04])\n",
    "    temp = z_sigma_points_after_measure - z_hat.T\n",
    "    S = np.dot((weight_c * temp).T, temp) + Q\n",
    "    \n",
    "    # line 10\n",
    "    temp1 = sigma_points_before_measure - mu_after_motion.T\n",
    "    temp2 = z_sigma_points_after_measure - z_hat.T\n",
    "    Sigma_x_z = np.dot((weight_c * temp1).T, temp2)\n",
    "    \n",
    "    # line 11\n",
    "    K = np.dot(Sigma_x_z, np.linalg.inv(S))\n",
    "    \n",
    "    # line 12\n",
    "    mu_after_measure = mu_after_motion + np.dot(K, z - z_hat)\n",
    "    \n",
    "    # line 13\n",
    "    Sigma_after_measure = Sigma_after_motion + np.dot(np.dot(K, S), K.T)\n",
    "    \n",
    "    return mu_after_measure, Sigma_after_measure\n",
    "\n",
    "unscented_kalman_filter(np.array([0,0,np.pi/4]).reshape((-1,1)), np.diag([0.01, 0.01, 0.01]),\n",
    "                        U[0], Z[0])"
   ]
  },
  {
   "cell_type": "code",
   "execution_count": 22,
   "metadata": {
    "collapsed": false
   },
   "outputs": [
    {
     "data": {
      "text/plain": [
       "array([[ 0.31201862],\n",
       "       [ 0.70569718]])"
      ]
     },
     "execution_count": 22,
     "metadata": {},
     "output_type": "execute_result"
    }
   ],
   "source": [
    "Z[0]"
   ]
  },
  {
   "cell_type": "raw",
   "metadata": {
    "collapsed": false
   },
   "source": [
    "# 浮点数取余数\n",
    "# x = np.array([-4, 2, 10]) + np.pi\n",
    "# x = np.fmod(x , 2 * np.pi)\n",
    "# index = x < 0\n",
    "# x[index] = x[index] + 2 * np.pi\n",
    "# x = x - np.pi\n",
    "# x"
   ]
  }
 ],
 "metadata": {
  "anaconda-cloud": {},
  "kernelspec": {
   "display_name": "Python [conda root]",
   "language": "python",
   "name": "conda-root-py"
  },
  "language_info": {
   "codemirror_mode": {
    "name": "ipython",
    "version": 3
   },
   "file_extension": ".py",
   "mimetype": "text/x-python",
   "name": "python",
   "nbconvert_exporter": "python",
   "pygments_lexer": "ipython3",
   "version": "3.5.2"
  }
 },
 "nbformat": 4,
 "nbformat_minor": 1
}
