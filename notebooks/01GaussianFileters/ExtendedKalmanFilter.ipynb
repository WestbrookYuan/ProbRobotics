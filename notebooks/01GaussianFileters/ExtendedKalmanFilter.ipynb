{
 "cells": [
  {
   "cell_type": "markdown",
   "metadata": {},
   "source": [
    "# 扩展卡尔曼滤波\n",
    "\n",
    "在卡尔曼滤波中，要满足两个条件：观测是状态的线性函数，下一个状态是当前状态的线性函数。这两个假设对KF的正确性是很重要的。\n",
    "\n",
    "不幸的是，实际上状态转移函数和测量函数很少是线性函数。例如具有恒定线速度和角速度的机器人的典型移动轨迹是圆。对于这种情况有两种方案：\n",
    "1. 将状态转移函数和测量函数进行线性化，利用参数化的分布来保存不确定性。\n",
    "2. 利用非参数的方法，例如直方图或粒子集的方法来保存分布的不确定性。\n",
    "\n",
    "## 1. 扩展卡尔曼滤波算法\n",
    "\n",
    "### 1.1 非线性的状态转移函数和测量函数\n",
    "\n",
    "令非线性的状态转移函数为：\n",
    "$$x_t = g(u_t, x_{t-1} ) + \\varepsilon_t$$\n",
    "\n",
    "非线性的观测函数为：\n",
    "$$z_t = h(x_t) + \\delta_t$$\n",
    "\n",
    "准确的实现置信度更新对于"
   ]
  }
 ],
 "metadata": {
  "kernelspec": {
   "display_name": "Python [Root]",
   "language": "python",
   "name": "Python [Root]"
  },
  "language_info": {
   "codemirror_mode": {
    "name": "ipython",
    "version": 3
   },
   "file_extension": ".py",
   "mimetype": "text/x-python",
   "name": "python",
   "nbconvert_exporter": "python",
   "pygments_lexer": "ipython3",
   "version": "3.5.2"
  }
 },
 "nbformat": 4,
 "nbformat_minor": 0
}
