{
 "cells": [
  {
   "cell_type": "code",
   "execution_count": 1,
   "metadata": {
    "collapsed": true
   },
   "outputs": [],
   "source": [
    "import numpy as np\n",
    "import matplotlib.pyplot as plt\n",
    "%matplotlib inline"
   ]
  },
  {
   "cell_type": "markdown",
   "metadata": {},
   "source": [
    "# 扩展卡尔曼滤波（Extended Kalman Filter，EKF）\n",
    "\n",
    "在卡尔曼滤波中，要满足两个条件：观测是状态的线性函数，下一个状态是当前状态的线性函数。这两个假设对KF的正确性是很重要的。\n",
    "\n",
    "不幸的是，实际上状态转移函数和测量函数很少是线性函数。例如具有恒定线速度和角速度的机器人的典型移动轨迹是圆。对于这种情况有两种方案：\n",
    "1. 将状态转移函数和测量函数进行线性化，利用参数化的分布来保存不确定性。\n",
    "2. 利用非参数的方法，例如直方图或粒子集的方法来保存分布的不确定性。\n",
    "\n",
    "## 1. 扩展卡尔曼滤波算法\n",
    "\n",
    "### 1.1 非线性的状态转移函数和测量函数\n",
    "\n",
    "令非线性的状态转移函数为：\n",
    "$$x_t = g(u_t, x_{t-1} ) + \\varepsilon_t$$\n",
    "\n",
    "非线性的观测函数为：\n",
    "$$z_t = h(x_t) + \\delta_t$$\n",
    "\n",
    "准确的实现置信度更新对于非线性函数$g$和$h$通常是不可能的，贝叶斯滤波不存在闭式解。EKF计算**真实置信度的高斯近似值**，因此EKF表示时刻$t$的置信度$bel(x_t)$，具有均值$\\mu_t$和协方差$\\Sigma_t$。\n",
    "\n",
    "### 1.2 通过泰勒展式进行线性化\n",
    "\n",
    "泰勒展开根据$g$的值和斜率构造一个函数$g$的线性近似函数，斜率由下面的偏导数给出：\n",
    "$$G_t = g'(u_t, x_{t-1}) := \\frac {\\partial g(u_t, x_{t-1})}{\\partial x_{t-1}}$$\n",
    "$G_t$是函数$g$的Jacobian。\n",
    "\n",
    "用相同的方法可以求得测量函数的Jacobian：\n",
    "$$H_t = h'(x_t) = \\frac {\\partial h(x_t)}{\\partial x_t}$$\n",
    "\n",
    "### 1.3 扩展卡尔曼滤波算法\n",
    "\n",
    "----\n",
    "1：**Algorithm Extended_Kalman_filter**$( \\mu_{t-1}, \\Sigma_{t-1}, u_t, z_t )$**:**  \n",
    "2：&emsp;&emsp;$\\overline \\mu_t = g(u_t, \\mu_{t-1})$  \n",
    "3：&emsp;&emsp;$\\overline \\Sigma_t = G_t \\Sigma_{t-1}G_t^T + R_t$  \n",
    "4：&emsp;&emsp;$K_t = \\overline \\Sigma_t H_t^T ( H_t \\overline \\Sigma_t H_t^T + Q_t)^{-1}$  \n",
    "5：&emsp;&emsp;$\\mu_t = \\overline \\mu_t + K_t (z_t - h(\\overline \\mu_t))$  \n",
    "6：&emsp;&emsp;$\\Sigma_t = (I - K_t H_t) \\overline \\Sigma_t$  \n",
    "7：&emsp;&emsp;**return** ${\\mu_t, \\Sigma_t}$  \n",
    "\n",
    "----"
   ]
  },
  {
   "cell_type": "markdown",
   "metadata": {},
   "source": [
    "## 2. 仿真模型\n",
    "\n",
    "假定有一个在平面环境操作的移动机器人，其状态是它的$(x,y)^T$位置和它的全局航向$\\theta$。假定已知确切的$x$和$y$，但是方向$\\theta$是未知的。例如初始的估计为：\n",
    "$$\\mu = (0, 0, \\frac {\\pi}{4}) \\qquad \\Sigma = \\begin{bmatrix}\n",
    "0.01 & 0 & 0 \\\\ 0 & 0.01 & 0 \\\\ 0 & 0 & 10000\n",
    "\\end{bmatrix}$$\n",
    "\n",
    "假设机器人的运动控制是向前移动$u_t$个单位，因此移动后机器人的期望位置将为：\n",
    "$$\\begin{bmatrix}\n",
    "x' \\\\ y' \\\\ \\theta'\n",
    "\\end{bmatrix} = \\begin{bmatrix}\n",
    "x + u_t cos \\theta \\\\ y + u_t sin \\theta \\\\ \\theta\n",
    "\\end{bmatrix}$$\n",
    "\n",
    "测量量是机器人距离世界坐标系原点的距离。\n",
    "$$z_t = h(x_t) = \\sqrt{x^2 + y^2} $$"
   ]
  },
  {
   "cell_type": "markdown",
   "metadata": {},
   "source": [
    "### 2.1 状态转移函数的定义"
   ]
  },
  {
   "cell_type": "code",
   "execution_count": 2,
   "metadata": {
    "collapsed": false
   },
   "outputs": [
    {
     "data": {
      "text/plain": [
       "array([[ 4.33012702],\n",
       "       [ 2.5       ],\n",
       "       [ 0.52359878]])"
      ]
     },
     "execution_count": 2,
     "metadata": {},
     "output_type": "execute_result"
    }
   ],
   "source": [
    "def state_transfer_function(mu, u):\n",
    "    x0, y0, theta0 = np.squeeze(mu)\n",
    "    x1 = x0 + u * np.cos(theta0)\n",
    "    y1 = y0 + u * np.sin(theta0)\n",
    "    theta1 = theta0\n",
    "    return np.array([x1, y1, theta1]).reshape((3, 1))\n",
    "\n",
    "state_transfer_function(np.array([0, 0, np.pi / 6]).reshape((3, 1)),5)"
   ]
  },
  {
   "cell_type": "markdown",
   "metadata": {},
   "source": [
    "### 2.2 测量函数的定义"
   ]
  },
  {
   "cell_type": "code",
   "execution_count": 3,
   "metadata": {
    "collapsed": false
   },
   "outputs": [
    {
     "data": {
      "text/plain": [
       "array([[ 5.]])"
      ]
     },
     "execution_count": 3,
     "metadata": {},
     "output_type": "execute_result"
    }
   ],
   "source": [
    "def measurement_function(mu):\n",
    "    x0, y0, theta0 = np.squeeze(mu)\n",
    "    z = np.sqrt(x0 ** 2 + y0 ** 2)\n",
    "    return np.array([z]).reshape((1,1))\n",
    "\n",
    "measurement_function(np.array([3, 4, np.pi / 6]).reshape((3, 1)))"
   ]
  },
  {
   "cell_type": "markdown",
   "metadata": {},
   "source": [
    "### 2.3 状态转移采样函数（带噪声）"
   ]
  },
  {
   "cell_type": "code",
   "execution_count": 4,
   "metadata": {
    "collapsed": false
   },
   "outputs": [
    {
     "data": {
      "text/plain": [
       "array([[ 4.21844835],\n",
       "       [ 2.25873565],\n",
       "       [ 0.49521623]])"
      ]
     },
     "execution_count": 4,
     "metadata": {},
     "output_type": "execute_result"
    }
   ],
   "source": [
    "def state_transfer_sample(mu, u, Sigma_u):\n",
    "    x0, y0, theta0 = np.squeeze(mu)\n",
    "    noise_x, noise_y, noise_theta = np.random.multivariate_normal(np.zeros(3), Sigma_u)\n",
    "    x1 = x0 + noise_x + u * np.cos(theta0 + noise_theta)\n",
    "    y1 = y0 + noise_y + u * np.sin(theta0 + noise_theta)\n",
    "    theta1 = theta0 + noise_theta\n",
    "    return np.array([x1, y1, theta1]).reshape((3, 1))\n",
    "\n",
    "Sigma = np.diag([0.2**2, 0.2 ** 2, 0.05 ** 2])\n",
    "state_transfer_sample(np.array([0, 0, np.pi / 6]).reshape((3, 1)), 5, Sigma)"
   ]
  },
  {
   "cell_type": "markdown",
   "metadata": {},
   "source": [
    "### 2.4 测量采样函数（带噪声）"
   ]
  },
  {
   "cell_type": "code",
   "execution_count": 5,
   "metadata": {
    "collapsed": false
   },
   "outputs": [
    {
     "data": {
      "text/plain": [
       "array([[ 0.03223015]])"
      ]
     },
     "execution_count": 5,
     "metadata": {},
     "output_type": "execute_result"
    }
   ],
   "source": [
    "def measurement_sample(mu, Sigma_z):\n",
    "    x0, y0, theta0 = np.squeeze(mu)\n",
    "    noise = np.random.normal(0, Sigma_z)\n",
    "    x0 += noise\n",
    "    y0 += noise\n",
    "    z = np.sqrt(x0 ** 2 + y0 ** 2)\n",
    "    return np.array([z]).reshape((1,1))\n",
    "\n",
    "measurement_sample(np.array([0, 0, np.pi / 6]).reshape((3, 1)), Sigma_z=0.1)"
   ]
  },
  {
   "cell_type": "markdown",
   "metadata": {},
   "source": [
    "### 2.5 状态转移函数的Jacobian矩阵"
   ]
  },
  {
   "cell_type": "code",
   "execution_count": 6,
   "metadata": {
    "collapsed": false
   },
   "outputs": [
    {
     "data": {
      "text/plain": [
       "array([[ 1.       ,  0.       , -0.8660254],\n",
       "       [ 0.       ,  1.       ,  0.8660254],\n",
       "       [ 0.       ,  0.       ,  1.       ]])"
      ]
     },
     "execution_count": 6,
     "metadata": {},
     "output_type": "execute_result"
    }
   ],
   "source": [
    "def jacobian_G(mu, u):\n",
    "    x, y, theta = np.squeeze(mu)\n",
    "    G = np.eye(3,dtype=np.float64)\n",
    "    G[0][2] = - u * np.cos(theta)\n",
    "    G[1][2] = u * np.cos(theta)\n",
    "    return G\n",
    "\n",
    "jacobian_G(np.array([1, 1, np.pi / 6]).reshape((3, 1)), 1)"
   ]
  },
  {
   "cell_type": "markdown",
   "metadata": {},
   "source": [
    "### 2.6 测量函数的Jacobian矩阵"
   ]
  },
  {
   "cell_type": "code",
   "execution_count": 7,
   "metadata": {
    "collapsed": false
   },
   "outputs": [],
   "source": [
    "def jacobian_H(mu):\n",
    "    x, y, theta = np.squeeze(mu)\n",
    "    distance = np.sqrt(x ** 2 + y ** 2)\n",
    "    H = np.array([x/distance, y / distance, 0]).reshape((1, 3))\n",
    "    return H\n",
    "\n",
    "# jacobian_H( np.array([1, 1, np.pi / 6]).reshape((3, 1)) )"
   ]
  },
  {
   "cell_type": "markdown",
   "metadata": {},
   "source": [
    "### 2.7 扩展卡尔曼滤波算法"
   ]
  },
  {
   "cell_type": "code",
   "execution_count": 25,
   "metadata": {
    "collapsed": false,
    "scrolled": true
   },
   "outputs": [
    {
     "name": "stdout",
     "output_type": "stream",
     "text": [
      "===============\n",
      "mu0 [[ 1.          1.          0.78539816]]\n",
      "Sigma0 [[  1.00000000e-02   0.00000000e+00   0.00000000e+00]\n",
      " [  0.00000000e+00   1.00000000e-02   0.00000000e+00]\n",
      " [  0.00000000e+00   0.00000000e+00   1.00000000e+02]]\n",
      "u 1\n",
      "z [[ 2.42]]\n",
      "R [[ 0.04  0.    0.  ]\n",
      " [ 0.    0.04  0.  ]\n",
      " [ 0.    0.    0.04]]\n",
      "Q [[ 0.0001]]\n",
      "G [[ 1.          0.         -0.70710678]\n",
      " [ 0.          1.          0.70710678]\n",
      " [ 0.          0.          1.        ]]\n",
      "H [[ 0.70710678  0.70710678  0.        ]]\n",
      "mu1 [[ 1.70710678  1.70710678  0.78539816]]\n",
      "Sigma1 [[  50.05        -50.          -70.71067812]\n",
      " [ -50.           50.05         70.71067812]\n",
      " [ -70.71067812   70.71067812  100.04      ]]\n",
      "Temp [[ 19.96007984]]\n",
      "K [[ 0.70569539]\n",
      " [ 0.70569539]\n",
      " [ 0.        ]]\n",
      "mu2 [[ 1.71119024]\n",
      " [ 1.71119024]\n",
      " [ 0.78539816]]\n",
      "h(mu1) [[ 2.41421356]]\n",
      "Step 1\n",
      " [[ 1.71119024  1.71119024  0.78539816]] \n",
      " [[  50.0250499   -50.0249501   -70.71067812]\n",
      " [ -50.0249501    50.0250499    70.71067812]\n",
      " [ -70.71067812   70.71067812  100.04      ]]\n",
      "===============\n",
      "mu0 [[ 1.71119024  1.71119024  0.78539816]]\n",
      "Sigma0 [[  50.0250499   -50.0249501   -70.71067812]\n",
      " [ -50.0249501    50.0250499    70.71067812]\n",
      " [ -70.71067812   70.71067812  100.04      ]]\n",
      "u 2\n",
      "z [[ 3.42]]\n",
      "R [[ 0.04  0.    0.  ]\n",
      " [ 0.    0.04  0.  ]\n",
      " [ 0.    0.    0.04]]\n",
      "Q [[ 0.0001]]\n",
      "G [[ 1.          0.         -1.41421356]\n",
      " [ 0.          1.          1.41421356]\n",
      " [ 0.          0.          1.        ]]\n",
      "H [[ 0.70710678  0.70710678  0.        ]]\n",
      "mu1 [[ 3.12540381  3.12540381  0.78539816]]\n",
      "Sigma1 [[ 450.1450499 -450.1049501 -212.1886029]\n",
      " [-450.1049501  450.1450499  212.1886029]\n",
      " [-212.1886029  212.1886029  100.08     ]]\n",
      "Temp [[ 24.8757454]]\n",
      "K [[ 0.7053478]\n",
      " [ 0.7053478]\n",
      " [ 0.       ]]\n",
      "mu2 [[ 2.42006415]\n",
      " [ 2.42006415]\n",
      " [ 0.78539816]]\n",
      "h(mu1) [[ 4.41998845]]\n",
      "Step 2\n",
      " [[ 2.42006415  2.42006415  0.78539816]] \n",
      " [[ 450.12504988 -450.12495012 -212.1886029 ]\n",
      " [-450.12495012  450.12504988  212.1886029 ]\n",
      " [-212.1886029   212.1886029   100.08      ]]\n",
      "===============\n",
      "mu0 [[ 2.42006415  2.42006415  0.78539816]]\n",
      "Sigma0 [[ 450.12504988 -450.12495012 -212.1886029 ]\n",
      " [-450.12495012  450.12504988  212.1886029 ]\n",
      " [-212.1886029   212.1886029   100.08      ]]\n",
      "u 1.5\n",
      "z [[ 3.42]]\n",
      "R [[ 0.04  0.    0.  ]\n",
      " [ 0.    0.04  0.  ]\n",
      " [ 0.    0.    0.04]]\n",
      "Q [[ 0.0001]]\n",
      "G [[ 1.          0.         -1.06066017]\n",
      " [ 0.          1.          1.06066017]\n",
      " [ 0.          0.          1.        ]]\n",
      "H [[ 0.70710678  0.70710678  0.        ]]\n",
      "mu1 [[ 3.48072432  3.48072432  0.78539816]]\n",
      "Sigma1 [[ 1012.87504988 -1012.83495012  -318.33947289]\n",
      " [-1012.83495012  1012.87504988   318.33947289]\n",
      " [ -318.33947289   318.33947289   100.12      ]]\n",
      "Temp [[ 24.87577582]]\n",
      "K [[  7.05347798e-01]\n",
      " [  7.05347798e-01]\n",
      " [ -7.07012072e-13]]\n",
      "mu2 [[ 2.42094804]\n",
      " [ 2.42094804]\n",
      " [ 0.78539816]]\n",
      "h(mu1) [[ 4.92248755]]\n",
      "Step 3\n",
      " [[ 2.42094804  2.42094804  0.78539816]] \n",
      " [[ 1012.85504988 -1012.85495012  -318.33947289]\n",
      " [-1012.85495012  1012.85504988   318.33947289]\n",
      " [ -318.33947289   318.33947289   100.12      ]]\n"
     ]
    },
    {
     "data": {
      "text/plain": [
       "(array([  2.12576694e+03,   9.97512421e-05,   6.30573358e-02]),\n",
       " array([[  6.90264432e-01,   7.07106781e-01,  -1.53411259e-01],\n",
       "        [ -6.90264432e-01,   7.07106781e-01,   1.53411259e-01],\n",
       "        [ -2.16956283e-01,   6.63803519e-13,  -9.76181321e-01]]))"
      ]
     },
     "execution_count": 25,
     "metadata": {},
     "output_type": "execute_result"
    }
   ],
   "source": [
    "def extended_kalman_filter(mu0, Sigma0, u, z, sigma_u=0.2, sigma_z=0.1):\n",
    "    # 重新规整输入参数的形状\n",
    "    mu0 = np.array(mu0).reshape((3, 1))\n",
    "    Sigma0 = np.array(Sigma0).reshape((3,3))\n",
    "    z = np.array(z).reshape((1,1))\n",
    "    \n",
    "    # 控制方程和测量方程的误差协方差矩阵\n",
    "    R = np.eye(3, dtype=np.float64) * sigma_u ** 2\n",
    "    Q = np.array([1]).reshape((1,1)) * sigma_z ** 2\n",
    "    \n",
    "    # 计算控制雅可比矩阵\n",
    "    G = jacobian_G(mu0, u)\n",
    "    \n",
    "    # 执行控制预测步骤\n",
    "    mu1 = state_transfer_function(mu0, u)\n",
    "    Sigma1 = np.dot(np.dot(G, Sigma0), G.T) + R\n",
    "    \n",
    "    # 计算观测雅克比矩阵\n",
    "    H = jacobian_H(mu1)\n",
    "    \n",
    "    # 进行测量更新步骤\n",
    "    Temp = np.linalg.inv(np.dot(np.dot(H, Sigma1), H.T) + Q)\n",
    "    K = np.dot(np.dot(Sigma1, H.T), Temp)\n",
    "    mu2 = mu1 + np.dot(K, (z - measurement_function(mu1)))\n",
    "    Sigma2 = np.dot((np.eye(3) - np.dot(K, H)), Sigma1)\n",
    "\n",
    "    print(\"===============\")\n",
    "    print(\"mu0\", mu0.T)\n",
    "    print(\"Sigma0\", Sigma0)\n",
    "    print(\"u\", u)\n",
    "    print(\"z\", z)\n",
    "    print(\"R\", R)\n",
    "    print(\"Q\", Q)\n",
    "    print(\"G\", G)\n",
    "    print(\"H\", H)\n",
    "    print(\"mu1\",mu1.T)\n",
    "    print(\"Sigma1\", Sigma1)\n",
    "    print(\"Temp\", Temp)\n",
    "    print(\"K\", K)\n",
    "    print(\"mu2\",mu2)\n",
    "    print(\"h(mu1)\",measurement_function(mu1))\n",
    "#     print(\"mu2\", mu2)\n",
    "#     print(\"Sigma2\",Sigma2)\n",
    "    return mu2, Sigma2\n",
    "\n",
    "# 仿真一个三次运动，每次前进一个\n",
    "mu = np.array([1, 1, np.pi/4]).reshape((3, 1))\n",
    "Sigma = np.diag([0.01, 0.01, 100])\n",
    "u = 1\n",
    "z = 2.42\n",
    "mu ,Sigma = extended_kalman_filter(mu, Sigma, u, z, sigma_u=0.2, sigma_z=0.01)\n",
    "print(\"Step 1\\n\", mu.T, \"\\n\", Sigma)\n",
    "u = 2\n",
    "z = 3.42\n",
    "mu ,Sigma = extended_kalman_filter(mu, Sigma, u, z, sigma_u=0.2, sigma_z=0.01)\n",
    "print(\"Step 2\\n\", mu.T, \"\\n\", Sigma)\n",
    "u = 1.5\n",
    "z = 3.42\n",
    "mu ,Sigma = extended_kalman_filter(mu, Sigma, u, z, sigma_u=0.2, sigma_z=0.01)\n",
    "print(\"Step 3\\n\", mu.T, \"\\n\", Sigma)\n",
    "\n",
    "np.linalg.eig(Sigma)"
   ]
  },
  {
   "cell_type": "markdown",
   "metadata": {},
   "source": [
    "从上面的结果可以看到，EKF算法可以把运动控制的偏移通过测量进行减弱，但是由于测量信息与机器人角度信息无关，因此原始的机器人角度的不确定性会扩散到机器人状态的所有分量上，最终导致整体的不确定性越来越大。\n",
    "\n",
    "这就意味着，用于测量的传感器必须要涉及到机器人状态的所有分量，才有可能降低整体的不确定性。"
   ]
  },
  {
   "cell_type": "markdown",
   "metadata": {},
   "source": [
    "## 3. 测量与角度无关的仿真实验\n",
    "\n",
    "### 3.1 生成无滤波的位姿状态估计"
   ]
  },
  {
   "cell_type": "code",
   "execution_count": 9,
   "metadata": {
    "collapsed": false
   },
   "outputs": [
    {
     "data": {
      "text/plain": [
       "<matplotlib.legend.Legend at 0x10ea6bb70>"
      ]
     },
     "execution_count": 9,
     "metadata": {},
     "output_type": "execute_result"
    },
    {
     "data": {
      "image/png": "[encoded data removed]",
      "text/plain": [
       "<matplotlib.figure.Figure at 0x10c1c5ac8>"
      ]
     },
     "metadata": {},
     "output_type": "display_data"
    }
   ],
   "source": [
    "# 随机产生10次运动控制\n",
    "U = np.random.uniform(low=0.5, high=1.5,size=10)\n",
    "\n",
    "# 生成无滤波与测量的情况下，机器人对位姿轨迹的估计\n",
    "X_no_filter = np.array([0, 0, np.pi / 4]).reshape((1,3))\n",
    "for u in U:\n",
    "    temp_pose = state_transfer_function(X_no_filter[-1], u)\n",
    "    X_no_filter = np.vstack([X_no_filter, temp_pose.T])\n",
    "\n",
    "# 绘制机器人在无滤波的情况下，估计的运动轨迹（忽略了角度值）\n",
    "fig, ax = plt.subplots()\n",
    "ax.plot(X_no_filter[:,0], X_no_filter[:,1], c='b', marker='o', label='no-filter')\n",
    "ax.legend(loc=\"lower right\")"
   ]
  },
  {
   "cell_type": "markdown",
   "metadata": {},
   "source": [
    "### 3.2 生成具有噪声干扰的机器人真实位姿数据"
   ]
  },
  {
   "cell_type": "code",
   "execution_count": 10,
   "metadata": {
    "collapsed": false
   },
   "outputs": [
    {
     "data": {
      "text/plain": [
       "<matplotlib.legend.Legend at 0x10ecb0ef0>"
      ]
     },
     "execution_count": 10,
     "metadata": {},
     "output_type": "execute_result"
    },
    {
     "data": {
      "image/png": "[encoded data removed]",
      "text/plain": [
       "<matplotlib.figure.Figure at 0x10eaae438>"
      ]
     },
     "metadata": {},
     "output_type": "display_data"
    }
   ],
   "source": [
    "# 假设机器人的控制装置对于移动距离控制的较为精确（方差较大，例如取值为0.3）\n",
    "# 而对角度的控制较为精确（方差较小，例如取值为0.1）\n",
    "# 因此采样的协方差矩阵为\n",
    "Sigma_u = np.diag([0.3**2, 0.3**2, 0.1**2])\n",
    "X_ground_truth = np.array([0, 0, np.pi / 4]).reshape((1,3))\n",
    "\n",
    "for u in U:\n",
    "    temp_pose = state_transfer_sample(X_ground_truth[-1], u, Sigma_u)\n",
    "    X_ground_truth = np.vstack([X_ground_truth, temp_pose.T])\n",
    "\n",
    "fig, ax = plt.subplots()\n",
    "ax.plot(X_no_filter[:,0], X_no_filter[:,1], \n",
    "        c='b', marker='o', label='no-filter')\n",
    "ax.plot(X_ground_truth[:,0], X_ground_truth[:,1], \n",
    "        c='k', marker='o', label='ground-truth')\n",
    "ax.legend(loc=\"lower right\")"
   ]
  },
  {
   "cell_type": "markdown",
   "metadata": {},
   "source": [
    "从上图可以看出当机器人的控制存在噪声时，真实的位姿轨迹与无滤波的估计之间存在较大的漂移。\n",
    "\n",
    "### 3.3 根据Ground-Truth数据对测量进行采样"
   ]
  },
  {
   "cell_type": "code",
   "execution_count": 11,
   "metadata": {
    "collapsed": false
   },
   "outputs": [
    {
     "name": "stdout",
     "output_type": "stream",
     "text": [
      "[array([[ 0.33229995]]), array([[ 0.89515786]]), array([[ 1.83013291]]), array([[ 3.06219283]]), array([[ 3.0598178]]), array([[ 4.12734215]]), array([[ 5.43060441]]), array([[ 6.51301161]]), array([[ 7.80598555]]), array([[ 9.33787122]]), array([[ 9.88809443]])]\n"
     ]
    }
   ],
   "source": [
    "# 假定传感器测量距离世界原点的距离的不确定性为：0.1（标准差）\n",
    "Sigma_z = 0.1\n",
    "Z = []\n",
    "\n",
    "for mu in X_ground_truth:\n",
    "    z = measurement_sample(mu, Sigma_z)\n",
    "    Z.append(z)\n",
    "\n",
    "print(Z)"
   ]
  },
  {
   "cell_type": "markdown",
   "metadata": {},
   "source": [
    "### 3.4 用扩展卡尔曼滤波来消除偏差"
   ]
  },
  {
   "cell_type": "code",
   "execution_count": 27,
   "metadata": {
    "collapsed": false
   },
   "outputs": [
    {
     "name": "stdout",
     "output_type": "stream",
     "text": [
      "===============\n",
      "mu0 [[ 0.          0.          0.78539816]]\n",
      "Sigma0 [[  1.00000000e-02   0.00000000e+00   0.00000000e+00]\n",
      " [  0.00000000e+00   1.00000000e-02   0.00000000e+00]\n",
      " [  0.00000000e+00   0.00000000e+00   1.00000000e+02]]\n",
      "u 0.972653190136\n",
      "z [[ 0.33229995]]\n",
      "R [[ 0.0625  0.      0.    ]\n",
      " [ 0.      0.0625  0.    ]\n",
      " [ 0.      0.      0.0625]]\n",
      "Q [[ 0.01]]\n",
      "G [[ 1.          0.         -0.68776967]\n",
      " [ 0.          1.          0.68776967]\n",
      " [ 0.          0.          1.        ]]\n",
      "H [[ 0.70710678  0.70710678  0.        ]]\n",
      "mu1 [[ 0.68776967  0.68776967  0.78539816]]\n",
      "Sigma1 [[  47.37521141  -47.30271141  -68.77696665]\n",
      " [ -47.30271141   47.37521141   68.77696665]\n",
      " [ -68.77696665   68.77696665  100.0625    ]]\n",
      "Temp [[ 12.12121212]]\n",
      "K [[  6.21396868e-01]\n",
      " [  6.21396868e-01]\n",
      " [ -1.72252784e-13]]\n",
      "mu2 [[ 0.28985617]\n",
      " [ 0.28985617]\n",
      " [ 0.78539816]]\n",
      "h(mu1) [[ 0.97265319]]\n",
      "===============\n",
      "mu0 [[ 0.28985617  0.28985617  0.78539816]]\n",
      "Sigma0 [[  47.34335535  -47.33456747  -68.77696665]\n",
      " [ -47.33456747   47.34335535   68.77696665]\n",
      " [ -68.77696665   68.77696665  100.0625    ]]\n",
      "u 1.36803539704\n",
      "z [[ 0.89515786]]\n",
      "R [[ 0.0625  0.      0.    ]\n",
      " [ 0.      0.0625  0.    ]\n",
      " [ 0.      0.      0.0625]]\n",
      "Q [[ 0.01]]\n",
      "G [[ 1.          0.         -0.96734711]\n",
      " [ 0.          1.          0.96734711]\n",
      " [ 0.          0.          1.        ]]\n",
      "H [[ 0.70710678  0.70710678  0.        ]]\n",
      "mu1 [[ 1.25720328  1.25720328  0.78539816]]\n",
      "Sigma1 [[ 274.10278207 -274.03149419 -165.57213646]\n",
      " [-274.03149419  274.10278207  165.57213646]\n",
      " [-165.57213646  165.57213646  100.125     ]]\n",
      "Temp [[ 12.30195713]]\n",
      "K [[  6.20118807e-01]\n",
      " [  6.20118809e-01]\n",
      " [  3.71145674e-10]]\n",
      "mu2 [[ 0.70976483]\n",
      " [ 0.70976483]\n",
      " [ 0.78539816]]\n",
      "h(mu1) [[ 1.77795393]]\n",
      "===============\n",
      "mu0 [[ 0.70976483  0.70976483  0.78539816]]\n",
      "Sigma0 [[ 274.07152304 -274.06275323 -165.57213646]\n",
      " [-274.06275323  274.07152304  165.57213646]\n",
      " [-165.57213646  165.57213646  100.125     ]]\n",
      "u 0.666082397849\n",
      "z [[ 1.83013291]]\n",
      "R [[ 0.0625  0.      0.    ]\n",
      " [ 0.      0.0625  0.    ]\n",
      " [ 0.      0.      0.0625]]\n",
      "Q [[ 0.01]]\n",
      "G [[ 1.          0.         -0.47099138]\n",
      " [ 0.          1.          0.47099138]\n",
      " [ 0.          0.          1.        ]]\n",
      "H [[ 0.70710678  0.70710678  0.        ]]\n",
      "mu1 [[ 1.18075622  1.18075621  0.78539816]]\n",
      "Sigma1 [[ 452.31113844 -452.23986864 -212.73014843]\n",
      " [-452.23986864  452.31113844  212.73014843]\n",
      " [-212.73014843  212.73014843  100.1875    ]]\n",
      "Temp [[ 12.3046931]]\n",
      "K [[  6.20104105e-01]\n",
      " [  6.20094819e-01]\n",
      " [ -2.18370566e-06]]\n",
      "mu2 [[ 1.28015361]\n",
      " [ 1.28015212]\n",
      " [ 0.78539781]]\n",
      "h(mu1) [[ 1.66984145]]\n",
      "===============\n",
      "mu0 [[ 1.28015361  1.28015212  0.78539781]]\n",
      "Sigma0 [[ 452.27988784 -452.27111878 -212.73014832]\n",
      " [-452.27111878  452.27988877  212.73014854]\n",
      " [-212.73014832  212.73014854  100.1875    ]]\n",
      "u 0.555545511213\n",
      "z [[ 3.06219283]]\n",
      "R [[ 0.0625  0.      0.    ]\n",
      " [ 0.      0.0625  0.    ]\n",
      " [ 0.      0.      0.0625]]\n",
      "Q [[ 0.01]]\n",
      "G [[ 1.          0.         -0.39283014]\n",
      " [ 0.          1.          0.39283014]\n",
      " [ 0.          0.          1.        ]]\n",
      "H [[ 0.70710715  0.70710641  0.        ]]\n",
      "mu1 [[ 1.67298374  1.67298198  0.78539781]]\n",
      "Sigma1 [[ 634.9364997  -634.86523072 -252.08681756]\n",
      " [-634.86523072  634.93650081  252.08681778]\n",
      " [-252.08681756  252.08681778  100.25      ]]\n",
      "Temp [[ 12.30473447]]\n",
      "K [[ 0.62592235]\n",
      " [ 0.61427598]\n",
      " [-0.00231209]]\n",
      "mu2 [[ 2.10877453]\n",
      " [ 2.10066412]\n",
      " [ 0.78378805]]\n",
      "h(mu1) [[ 2.36595505]]\n",
      "===============\n",
      "mu0 [[ 2.10877453  2.10066412  0.78378805]]\n",
      "Sigma0 [[ 634.90466002 -634.89647797 -252.08669995]\n",
      " [-634.89647797  634.90583497  252.0869332 ]\n",
      " [-252.08669995  252.0869332   100.24999957]]\n",
      "u 0.951029598112\n",
      "z [[ 3.0598178]]\n",
      "R [[ 0.0625  0.      0.    ]\n",
      " [ 0.      0.0625  0.    ]\n",
      " [ 0.      0.      0.0625]]\n",
      "Q [[ 0.01]]\n",
      "G [[ 1.          0.         -0.67356138]\n",
      " [ 0.          1.          0.67356138]\n",
      " [ 0.          0.          1.        ]]\n",
      "H [[ 0.70841376  0.70579739  0.        ]]\n",
      "mu1 [[ 2.78233591  2.77205996  0.78378805]]\n",
      "Sigma1 [[ 1020.04080251 -1019.97027758  -319.61122756]\n",
      " [-1019.97027758  1020.04229169   319.61146082]\n",
      " [ -319.61122756   319.61146082   100.31249957]]\n",
      "Temp [[ 11.33158909]]\n",
      "K [[ 30.80585374]\n",
      " [-29.66376314]\n",
      " [ -9.4738551 ]]\n",
      "mu2 [[-23.9491326 ]\n",
      " [ 28.51249088]\n",
      " [  9.00463014]]\n",
      "h(mu1) [[ 3.9275577]]\n",
      "===============\n",
      "mu0 [[-23.9491326   28.51249088   9.00463014]]\n",
      "Sigma0 [[ 936.29256416 -939.3269061  -293.85577596]\n",
      " [-939.3269061   942.38867783  294.81086212]\n",
      " [-293.85577596  294.81086212   92.3918161 ]]\n",
      "u 1.44147076744\n",
      "z [[ 4.12734215]]\n",
      "R [[ 0.0625  0.      0.    ]\n",
      " [ 0.      0.0625  0.    ]\n",
      " [ 0.      0.      0.0625]]\n",
      "Q [[ 0.01]]\n",
      "G [[ 1.          0.          1.31610412]\n",
      " [ 0.          1.         -1.31610412]\n",
      " [ 0.          0.          1.        ]]\n",
      "H [[-0.65559471  0.75511296  0.        ]]\n",
      "mu1 [[-25.26523671  29.1004602    9.00463014]]\n",
      "Sigma1 [[ 322.90011171 -324.61496082 -172.25852639]\n",
      " [-324.61496082  326.48223972  173.21361255]\n",
      " [-172.25852639  173.21361255   92.4543161 ]]\n",
      "Temp [[ 0.00154714]]\n",
      "K [[-0.7067544 ]\n",
      " [ 0.71067525]\n",
      " [ 0.3770815 ]]\n",
      "mu2 [[-0.94543073]\n",
      " [ 4.64573559]\n",
      " [-3.97095085]]\n",
      "h(mu1) [[ 38.53789006]]\n",
      "===============\n",
      "mu0 [[-0.94543073  4.64573559 -3.97095085]]\n",
      "Sigma0 [[ 0.04582176  0.03042321 -0.0029586 ]\n",
      " [ 0.03042321  0.03582517  0.00242503]\n",
      " [-0.0029586   0.00242503  0.54913918]]\n",
      "u 1.23782611137\n",
      "z [[ 5.43060441]]\n",
      "R [[ 0.0625  0.      0.    ]\n",
      " [ 0.      0.0625  0.    ]\n",
      " [ 0.      0.      0.0625]]\n",
      "Q [[ 0.01]]\n",
      "G [[ 1.          0.          0.83596491]\n",
      " [ 0.          1.         -0.83596491]\n",
      " [ 0.          0.          1.        ]]\n",
      "H [[-0.30518504  0.95229307  0.        ]]\n",
      "mu1 [[-1.78139564  5.55862997 -3.97095085]]\n",
      "Sigma1 [[ 0.48713415 -0.34883522  0.45610248]\n",
      " [-0.34883522  0.47802965 -0.45663605]\n",
      " [ 0.45610248 -0.45663605  0.61163918]]\n",
      "Temp [[ 1.44584199]]\n",
      "K [[-0.69524674]\n",
      " [ 0.81210575]\n",
      " [-0.82998126]]\n",
      "mu2 [[-1.49878084]\n",
      " [ 5.22851248]\n",
      " [-3.63356704]]\n",
      "h(mu1) [[ 5.8371001]]\n",
      "===============\n",
      "mu0 [[-1.49878084  5.22851248 -3.63356704]]\n",
      "Sigma0 [[ 0.15281821  0.04167348  0.05699818]\n",
      " [ 0.04167348  0.02188316  0.00955082]\n",
      " [ 0.05699818  0.00955082  0.13519092]]\n",
      "u 1.07751004532\n",
      "z [[ 6.51301161]]\n",
      "R [[ 0.0625  0.      0.    ]\n",
      " [ 0.      0.0625  0.    ]\n",
      " [ 0.      0.      0.0625]]\n",
      "Q [[ 0.01]]\n",
      "G [[ 1.          0.          0.94971944]\n",
      " [ 0.          1.         -0.94971944]\n",
      " [ 0.          0.          1.        ]]\n",
      "H [[-0.39250695  0.91974904  0.        ]]\n",
      "mu1 [[-2.44850028  5.73749271 -3.63356704]]\n",
      "Sigma1 [[ 0.44552052 -0.12532595  0.18539162]\n",
      " [-0.12532595  0.18817971 -0.11884263]\n",
      " [ 0.18539162 -0.11884263  0.19769092]]\n",
      "Temp [[ 3.04587025]]\n",
      "K [[-0.88372369]\n",
      " [ 0.67700381]\n",
      " [-0.55457041]]\n",
      "mu2 [[-2.69144019]\n",
      " [ 5.92360433]\n",
      " [-3.78602113]]\n",
      "h(mu1) [[ 6.23810679]]\n",
      "===============\n",
      "mu0 [[-2.69144019  5.92360433 -3.78602113]]\n",
      "Sigma0 [[ 0.1891184   0.0710988   0.02448949]\n",
      " [ 0.0710988   0.03770247  0.00442142]\n",
      " [ 0.02448949  0.00442142  0.09671868]]\n",
      "u 0.968436695127\n",
      "z [[ 7.80598555]]\n",
      "R [[ 0.0625  0.      0.    ]\n",
      " [ 0.      0.0625  0.    ]\n",
      " [ 0.      0.      0.0625]]\n",
      "Q [[ 0.01]]\n",
      "G [[ 1.          0.          0.77421017]\n",
      " [ 0.          1.         -0.77421017]\n",
      " [ 0.          0.          1.        ]]\n",
      "H [[-0.47017751  0.88257187  0.        ]]\n",
      "mu1 [[-3.46565036  6.50538457 -3.78602113]]\n",
      "Sigma1 [[ 0.34751175 -0.00241142  0.09937008]\n",
      " [-0.00241142  0.15132957 -0.07045917]\n",
      " [ 0.09937008 -0.07045917  0.15921868]]\n",
      "Temp [[ 4.83792304]]\n",
      "K [[-0.80077526]\n",
      " [ 0.65163447]\n",
      " [-0.52688301]]\n",
      "mu2 [[-3.81402384]\n",
      " [ 6.78887505]\n",
      " [-4.01523908]]\n",
      "h(mu1) [[ 7.37094029]]\n",
      "===============\n",
      "mu0 [[-3.81402384  6.78887505 -4.01523908]]\n",
      "Sigma0 [[ 0.21496706  0.10544742  0.01216016]\n",
      " [ 0.10544742  0.06355896  0.00050829]\n",
      " [ 0.01216016  0.00050829  0.10183751]]\n",
      "u 0.716403099259\n",
      "z [[ 9.33787122]]\n",
      "R [[ 0.0625  0.      0.    ]\n",
      " [ 0.      0.0625  0.    ]\n",
      " [ 0.      0.      0.0625]]\n",
      "Q [[ 0.01]]\n",
      "G [[ 1.          0.          0.45995601]\n",
      " [ 0.          1.         -0.45995601]\n",
      " [ 0.          0.          1.        ]]\n",
      "H [[-0.50329172  0.86411657  0.        ]]\n",
      "mu1 [[-4.27397984  7.33812352 -4.01523908]]\n",
      "Sigma1 [[ 0.31019803  0.07854337  0.05900094]\n",
      " [ 0.07854337  0.14713607 -0.04633248]\n",
      " [ 0.05900094 -0.04633248  0.16433751]]\n",
      "Temp [[ 7.68505846]]\n",
      "K [[-0.67820233]\n",
      " [ 0.67330707]\n",
      " [-0.53588948]]\n",
      "mu2 [[-4.84761588]\n",
      " [ 7.90761905]\n",
      " [-4.46850428]]\n",
      "h(mu1) [[ 8.49205278]]\n"
     ]
    },
    {
     "data": {
      "text/plain": [
       "<matplotlib.legend.Legend at 0x10faac358>"
      ]
     },
     "execution_count": 27,
     "metadata": {},
     "output_type": "execute_result"
    },
    {
     "data": {
      "image/png": "[encoded data removed]",
      "text/plain": [
       "<matplotlib.figure.Figure at 0x10f4e56d8>"
      ]
     },
     "metadata": {},
     "output_type": "display_data"
    }
   ],
   "source": [
    "# 假设运动控制误差为0.25，观测误差为0.1\n",
    "sigma_u = 0.25\n",
    "sigma_z = 0.1\n",
    "\n",
    "Sigma = []\n",
    "# 设定初始的位姿和初始的协方差\n",
    "X_ekf = np.array([0, 0, np.pi / 4]).reshape((1,3))\n",
    "sigma = np.diag([0.01, 0.01, 100])\n",
    "Sigma.append(sigma)\n",
    "\n",
    "for u, z in zip(U, Z):\n",
    "    mu, sigma = extended_kalman_filter(X_ekf[-1], Sigma[-1], \n",
    "                                       u, z, sigma_u=sigma_u, sigma_z=sigma_z)\n",
    "    X_ekf = np.vstack([X_ekf, mu.T])\n",
    "    Sigma.append(sigma)\n",
    "\n",
    "fig, ax = plt.subplots()\n",
    "ax.plot(X_no_filter[:,0], X_no_filter[:,1], \n",
    "        c='b', marker='o', label='no-filter')\n",
    "ax.plot(X_ground_truth[:,0], X_ground_truth[:,1], \n",
    "        c='k', marker='o', label='ground-truth')\n",
    "ax.plot(X_ekf[:,0], X_ekf[:,1], \n",
    "        c='r', marker='o', label='extended-kalman-filter')\n",
    "ax.legend(loc=\"lower right\")\n"
   ]
  },
  {
   "cell_type": "code",
   "execution_count": 13,
   "metadata": {
    "collapsed": false
   },
   "outputs": [
    {
     "data": {
      "text/plain": [
       "[<matplotlib.lines.Line2D at 0x10f0198d0>]"
      ]
     },
     "execution_count": 13,
     "metadata": {},
     "output_type": "execute_result"
    },
    {
     "data": {
      "image/png": "[encoded data removed]",
      "text/plain": [
       "<matplotlib.figure.Figure at 0x10c1c57b8>"
      ]
     },
     "metadata": {},
     "output_type": "display_data"
    }
   ],
   "source": [
    "distance_ground_truth = []\n",
    "distance_no_filter = []\n",
    "distance_extended_kalman_filter = []\n",
    "\n",
    "for gt, nf, ekf in zip(X_ground_truth, X_no_filter, X_ekf):\n",
    "    distance_ground_truth.append(np.sqrt(gt[0]**2 + gt[1] ** 2))\n",
    "    distance_no_filter.append(np.sqrt(nf[0]**2 + nf[1]**2))\n",
    "    distance_extended_kalman_filter.append(np.sqrt(ekf[0]**2 + ekf[1]**2))\n",
    "    \n",
    "x = [i for i in range(11)]\n",
    "fig, ax = plt.subplots()\n",
    "ax.plot(x, distance_ground_truth, c='k')\n",
    "ax.plot(x, distance_no_filter, c='b')\n",
    "ax.plot(x, distance_extended_kalman_filter, c='r')"
   ]
  },
  {
   "cell_type": "code",
   "execution_count": 14,
   "metadata": {
    "collapsed": false
   },
   "outputs": [
    {
     "data": {
      "text/plain": [
       "[array([[ 0.33229995]]),\n",
       " array([[ 0.89515786]]),\n",
       " array([[ 1.83013291]]),\n",
       " array([[ 3.06219283]]),\n",
       " array([[ 3.0598178]]),\n",
       " array([[ 4.12734215]]),\n",
       " array([[ 5.43060441]]),\n",
       " array([[ 6.51301161]]),\n",
       " array([[ 7.80598555]]),\n",
       " array([[ 9.33787122]]),\n",
       " array([[ 9.88809443]])]"
      ]
     },
     "execution_count": 14,
     "metadata": {},
     "output_type": "execute_result"
    }
   ],
   "source": [
    "Z"
   ]
  }
 ],
 "metadata": {
  "anaconda-cloud": {},
  "kernelspec": {
   "display_name": "Python [conda root]",
   "language": "python",
   "name": "conda-root-py"
  },
  "language_info": {
   "codemirror_mode": {
    "name": "ipython",
    "version": 3
   },
   "file_extension": ".py",
   "mimetype": "text/x-python",
   "name": "python",
   "nbconvert_exporter": "python",
   "pygments_lexer": "ipython3",
   "version": "3.5.2"
  }
 },
 "nbformat": 4,
 "nbformat_minor": 0
}
