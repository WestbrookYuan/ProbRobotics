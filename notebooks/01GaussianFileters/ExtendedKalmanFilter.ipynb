{
 "cells": [
  {
   "cell_type": "code",
   "execution_count": 1,
   "metadata": {
    "collapsed": true
   },
   "outputs": [],
   "source": [
    "import numpy as np\n",
    "import matplotlib.pyplot as plt\n",
    "%matplotlib inline"
   ]
  },
  {
   "cell_type": "markdown",
   "metadata": {},
   "source": [
    "# 扩展卡尔曼滤波（Extended Kalman Filter，EKF）\n",
    "\n",
    "在卡尔曼滤波中，要满足两个条件：观测是状态的线性函数，下一个状态是当前状态的线性函数。这两个假设对KF的正确性是很重要的。\n",
    "\n",
    "不幸的是，实际上状态转移函数和测量函数很少是线性函数。例如具有恒定线速度和角速度的机器人的典型移动轨迹是圆。对于这种情况有两种方案：\n",
    "1. 将状态转移函数和测量函数进行线性化，利用参数化的分布来保存不确定性。\n",
    "2. 利用非参数的方法，例如直方图或粒子集的方法来保存分布的不确定性。\n",
    "\n",
    "## 1. 扩展卡尔曼滤波算法\n",
    "\n",
    "### 1.1 非线性的状态转移函数和测量函数\n",
    "\n",
    "令非线性的状态转移函数为：\n",
    "$$x_t = g(u_t, x_{t-1} ) + \\varepsilon_t$$\n",
    "\n",
    "非线性的观测函数为：\n",
    "$$z_t = h(x_t) + \\delta_t$$\n",
    "\n",
    "准确的实现置信度更新对于非线性函数$g$和$h$通常是不可能的，贝叶斯滤波不存在闭式解。EKF计算**真实置信度的高斯近似值**，因此EKF表示时刻$t$的置信度$bel(x_t)$，具有均值$\\mu_t$和协方差$\\Sigma_t$。\n",
    "\n",
    "### 1.2 通过泰勒展式进行线性化\n",
    "\n",
    "泰勒展开根据$g$的值和斜率构造一个函数$g$的线性近似函数，斜率由下面的偏导数给出：\n",
    "$$G_t = g'(u_t, x_{t-1}) := \\frac {\\partial g(u_t, x_{t-1})}{\\partial x_{t-1}}$$\n",
    "$G_t$是函数$g$的Jacobian。\n",
    "\n",
    "用相同的方法可以求得测量函数的Jacobian：\n",
    "$$H_t = h'(x_t) = \\frac {\\partial h(x_t)}{\\partial x_t}$$\n",
    "\n",
    "### 1.3 扩展卡尔曼滤波算法\n",
    "\n",
    "----\n",
    "1：**Algorithm Extended_Kalman_filter**$( \\mu_{t-1}, \\Sigma_{t-1}, u_t, z_t )$**:**  \n",
    "2：&emsp;&emsp;$\\overline \\mu_t = g(u_t, \\mu_{t-1})$  \n",
    "3：&emsp;&emsp;$\\overline \\Sigma_t = G_t \\Sigma_{t-1}G_t^T + R_t$  \n",
    "4：&emsp;&emsp;$K_t = \\overline \\Sigma_t H_t^T ( H_t \\overline \\Sigma_t H_t^T + Q_t)^{-1}$  \n",
    "5：&emsp;&emsp;$\\mu_t = \\overline \\mu_t + K_t (z_t - h(\\overline \\mu_t))$  \n",
    "6：&emsp;&emsp;$\\Sigma_t = (I - K_t H_t) \\overline \\Sigma_t$  \n",
    "7：&emsp;&emsp;**return** ${\\mu_t, \\Sigma_t}$  \n",
    "\n",
    "----"
   ]
  },
  {
   "cell_type": "markdown",
   "metadata": {},
   "source": [
    "## 2. 仿真模型\n",
    "\n",
    "假定有一个在平面环境操作的移动机器人，其状态是它的$(x,y)^T$位置和它的全局航向$\\theta$。假定已知确切的$x$和$y$，但是方向$\\theta$是未知的。例如初始的估计为：\n",
    "$$\\mu = (0, 0, \\frac {\\pi}{4}) \\qquad \\Sigma = \\begin{bmatrix}\n",
    "0.01 & 0 & 0 \\\\ 0 & 0.01 & 0 \\\\ 0 & 0 & 10000\n",
    "\\end{bmatrix}$$\n",
    "\n",
    "假设机器人的运动控制是向前移动$u_t$个单位，因此移动后机器人的期望位置将为：\n",
    "$$\\begin{bmatrix}\n",
    "x' \\\\ y' \\\\ \\theta'\n",
    "\\end{bmatrix} = \\begin{bmatrix}\n",
    "x + u_t cos \\theta \\\\ y + u_t sin \\theta \\\\ \\theta\n",
    "\\end{bmatrix}$$\n",
    "\n",
    "测量量是机器人距离世界坐标系原点的距离。\n",
    "$$z_t = h(x_t) = \\sqrt{x^2 + y^2} $$"
   ]
  },
  {
   "cell_type": "markdown",
   "metadata": {},
   "source": [
    "### 2.1 状态转移函数的定义"
   ]
  },
  {
   "cell_type": "code",
   "execution_count": 2,
   "metadata": {
    "collapsed": false
   },
   "outputs": [
    {
     "data": {
      "text/plain": [
       "array([[ 4.33012702],\n",
       "       [ 2.5       ],\n",
       "       [ 0.52359878]])"
      ]
     },
     "execution_count": 2,
     "metadata": {},
     "output_type": "execute_result"
    }
   ],
   "source": [
    "def state_transfer_function(mu, u):\n",
    "    x0, y0, theta0 = np.squeeze(mu)\n",
    "    x1 = x0 + u * np.cos(theta0)\n",
    "    y1 = y0 + u * np.sin(theta0)\n",
    "    theta1 = theta0\n",
    "    return np.array([x1, y1, theta1]).reshape((3, 1))\n",
    "\n",
    "state_transfer_function(np.array([0, 0, np.pi / 6]).reshape((3, 1)),5)"
   ]
  },
  {
   "cell_type": "markdown",
   "metadata": {},
   "source": [
    "### 2.2 测量函数的定义"
   ]
  },
  {
   "cell_type": "code",
   "execution_count": 3,
   "metadata": {
    "collapsed": false
   },
   "outputs": [
    {
     "data": {
      "text/plain": [
       "array([[ 5.]])"
      ]
     },
     "execution_count": 3,
     "metadata": {},
     "output_type": "execute_result"
    }
   ],
   "source": [
    "def measurement_function(mu):\n",
    "    x0, y0, theta0 = np.squeeze(mu)\n",
    "    z = np.sqrt(x0 ** 2 + y0 ** 2)\n",
    "    return np.array([z]).reshape((1,1))\n",
    "\n",
    "measurement_function(np.array([3, 4, np.pi / 6]).reshape((3, 1)))"
   ]
  },
  {
   "cell_type": "markdown",
   "metadata": {},
   "source": [
    "### 2.3 状态转移采样函数（带噪声）"
   ]
  },
  {
   "cell_type": "code",
   "execution_count": 4,
   "metadata": {
    "collapsed": false
   },
   "outputs": [
    {
     "data": {
      "text/plain": [
       "array([[ 4.4325001 ],\n",
       "       [ 2.99806708],\n",
       "       [ 0.49960783]])"
      ]
     },
     "execution_count": 4,
     "metadata": {},
     "output_type": "execute_result"
    }
   ],
   "source": [
    "def state_transfer_sample(mu, u, Sigma_u):\n",
    "    x0, y0, theta0 = np.squeeze(mu)\n",
    "    noise_x, noise_y, noise_theta = np.random.multivariate_normal(np.zeros(3), Sigma_u)\n",
    "    x1 = x0 + noise_x + u * np.cos(theta0 + noise_theta)\n",
    "    y1 = y0 + noise_y + u * np.sin(theta0 + noise_theta)\n",
    "    theta1 = theta0 + noise_theta\n",
    "    return np.array([x1, y1, theta1]).reshape((3, 1))\n",
    "\n",
    "Sigma = np.diag([0.2**2, 0.2 ** 2, 0.05 ** 2])\n",
    "state_transfer_sample(np.array([0, 0, np.pi / 6]).reshape((3, 1)), 5, Sigma)"
   ]
  },
  {
   "cell_type": "markdown",
   "metadata": {},
   "source": [
    "### 2.4 测量采样函数（带噪声）"
   ]
  },
  {
   "cell_type": "code",
   "execution_count": 5,
   "metadata": {
    "collapsed": false
   },
   "outputs": [
    {
     "data": {
      "text/plain": [
       "array([[ 1.31185504]])"
      ]
     },
     "execution_count": 5,
     "metadata": {},
     "output_type": "execute_result"
    }
   ],
   "source": [
    "def measurement_sample(mu, Sigma_z):\n",
    "    x0, y0, theta0 = np.squeeze(mu)\n",
    "    noise = np.random.normal(0, Sigma_z)\n",
    "    z = np.sqrt(x0 ** 2 + y0 ** 2) + noise\n",
    "    return np.array([z]).reshape((1,1))\n",
    "\n",
    "measurement_sample(np.array([1, 1, np.pi / 6]).reshape((3, 1)), Sigma_z=0.1)"
   ]
  },
  {
   "cell_type": "markdown",
   "metadata": {},
   "source": [
    "### 2.5 状态转移函数的Jacobian矩阵"
   ]
  },
  {
   "cell_type": "code",
   "execution_count": 6,
   "metadata": {
    "collapsed": false
   },
   "outputs": [
    {
     "data": {
      "text/plain": [
       "array([[ 1.       ,  0.       , -0.8660254],\n",
       "       [ 0.       ,  1.       ,  0.8660254],\n",
       "       [ 0.       ,  0.       ,  1.       ]])"
      ]
     },
     "execution_count": 6,
     "metadata": {},
     "output_type": "execute_result"
    }
   ],
   "source": [
    "def jacobian_G(mu, u):\n",
    "    x, y, theta = np.squeeze(mu)\n",
    "    G = np.eye(3,dtype=np.float64)\n",
    "    G[0][2] = - u * np.cos(theta)\n",
    "    G[1][2] = u * np.cos(theta)\n",
    "    return G\n",
    "\n",
    "jacobian_G(np.array([1, 1, np.pi / 6]).reshape((3, 1)), 1)"
   ]
  },
  {
   "cell_type": "markdown",
   "metadata": {},
   "source": [
    "### 2.6 测量函数的Jacobian矩阵"
   ]
  },
  {
   "cell_type": "code",
   "execution_count": 7,
   "metadata": {
    "collapsed": false
   },
   "outputs": [],
   "source": [
    "def jacobian_H(mu):\n",
    "    x, y, theta = np.squeeze(mu)\n",
    "    distance = np.sqrt(x ** 2 + y ** 2)\n",
    "    H = np.array([x/distance, y / distance, 0]).reshape((1, 3))\n",
    "    return H\n",
    "\n",
    "# jacobian_H( np.array([1, 1, np.pi / 6]).reshape((3, 1)) )"
   ]
  },
  {
   "cell_type": "markdown",
   "metadata": {},
   "source": [
    "### 2.7 扩展卡尔曼滤波算法"
   ]
  },
  {
   "cell_type": "code",
   "execution_count": 33,
   "metadata": {
    "collapsed": false,
    "scrolled": true
   },
   "outputs": [
    {
     "name": "stdout",
     "output_type": "stream",
     "text": [
      "Step 1\n",
      " [[ 1.71119024  1.71119024  0.78539816]] \n",
      " [[  50.0250499   -50.0249501   -70.71067812]\n",
      " [ -50.0249501    50.0250499    70.71067812]\n",
      " [ -70.71067812   70.71067812  100.04      ]]\n",
      "Step 2\n",
      " [[ 2.42006415  2.42006415  0.78539816]] \n",
      " [[ 450.12504988 -450.12495012 -212.1886029 ]\n",
      " [-450.12495012  450.12504988  212.1886029 ]\n",
      " [-212.1886029   212.1886029   100.08      ]]\n",
      "Step 3\n",
      " [[ 2.42094804  2.42094804  0.78539816]] \n",
      " [[ 1012.85504988 -1012.85495012  -318.33947289]\n",
      " [-1012.85495012  1012.85504988   318.33947289]\n",
      " [ -318.33947289   318.33947289   100.12      ]]\n"
     ]
    },
    {
     "data": {
      "text/plain": [
       "(array([  2.12576694e+03,   9.97512421e-05,   6.30573358e-02]),\n",
       " array([[  6.90264432e-01,   7.07106781e-01,  -1.53411259e-01],\n",
       "        [ -6.90264432e-01,   7.07106781e-01,   1.53411259e-01],\n",
       "        [ -2.16956283e-01,   6.63803519e-13,  -9.76181321e-01]]))"
      ]
     },
     "execution_count": 33,
     "metadata": {},
     "output_type": "execute_result"
    }
   ],
   "source": [
    "def extended_kalman_filter(mu0, Sigma0, u, z, sigma_u=0.2, sigma_z=0.1):\n",
    "    # 重新规整输入参数的形状\n",
    "    mu0 = np.array(mu0).reshape((3, 1))\n",
    "    Sigma0 = np.array(Sigma0).reshape((3,3))\n",
    "    z = np.array(z).reshape((1,1))\n",
    "    \n",
    "    # 控制方程和测量方程的误差协方差矩阵\n",
    "    R = np.eye(3, dtype=np.float64) * sigma_u ** 2\n",
    "    Q = np.array([1]).reshape((1,1)) * sigma_z ** 2\n",
    "    \n",
    "    # 计算雅可比矩阵\n",
    "    G = jacobian_G(mu, u)\n",
    "    H = jacobian_H(mu)\n",
    "    \n",
    "    # 执行控制预测步骤\n",
    "    mu1 = state_transfer_function(mu0, u)\n",
    "    Sigma1 = np.dot(np.dot(G, Sigma0), G.T) + R\n",
    "#     print (\"=====\")\n",
    "#     print (\"Sigma1\", Sigma1)\n",
    "    \n",
    "    # 进行测量更新步骤\n",
    "    Temp = np.linalg.inv(np.dot(np.dot(H, Sigma1), H.T) + Q)\n",
    "#     print(\"inv\", Temp)\n",
    "    K = np.dot(np.dot(Sigma1, H.T), Temp)\n",
    "#     print(\"K\",K)\n",
    "    mu2 = mu1 + np.dot(K, (z - measurement_function(mu1)))\n",
    "#     print(\"mu\",mu1, mu2)\n",
    "    Sigma2 = np.dot((np.eye(3) - np.dot(K, H)), Sigma1)\n",
    "#     print(\"Sigma2\",Sigma2)\n",
    "    return mu2, Sigma2\n",
    "\n",
    "# 仿真一个三次运动，每次前进一个\n",
    "mu = np.array([1, 1, np.pi/4]).reshape((3, 1))\n",
    "Sigma = np.diag([0.01, 0.01, 100])\n",
    "u = 1\n",
    "z = 2.42\n",
    "mu ,Sigma = extended_kalman_filter(mu, Sigma, u, z, sigma_u=0.2, sigma_z=0.01)\n",
    "print(\"Step 1\\n\", mu.T, \"\\n\", Sigma)\n",
    "u = 2\n",
    "z = 3.42\n",
    "mu ,Sigma = extended_kalman_filter(mu, Sigma, u, z, sigma_u=0.2, sigma_z=0.01)\n",
    "print(\"Step 2\\n\", mu.T, \"\\n\", Sigma)\n",
    "u = 1.5\n",
    "z = 3.42\n",
    "mu ,Sigma = extended_kalman_filter(mu, Sigma, u, z, sigma_u=0.2, sigma_z=0.01)\n",
    "print(\"Step 3\\n\", mu.T, \"\\n\", Sigma)\n",
    "\n",
    "np.linalg.eig(Sigma)"
   ]
  },
  {
   "cell_type": "markdown",
   "metadata": {},
   "source": [
    "从上面的结果可以看到，EKF算法可以把运动控制的偏移通过测量进行减弱，但是由于测量信息与机器人角度信息无关，因此原始的机器人角度的不确定性会扩散到机器人状态的所有分量上，最终导致整体的不确定性越来越大。\n",
    "\n",
    "这就意味着，用于测量的传感器必须要涉及到机器人状态的所有分量，才有可能降低整体的不确定性。"
   ]
  },
  {
   "cell_type": "markdown",
   "metadata": {},
   "source": [
    "## 3. 测量与角度无关的仿真实验\n",
    "\n",
    "### 3.1 生成无滤波的位姿状态估计"
   ]
  },
  {
   "cell_type": "code",
   "execution_count": 49,
   "metadata": {
    "collapsed": false
   },
   "outputs": [
    {
     "data": {
      "text/plain": [
       "<matplotlib.legend.Legend at 0x10f2c3fd0>"
      ]
     },
     "execution_count": 49,
     "metadata": {},
     "output_type": "execute_result"
    },
    {
     "data": {
      "image/png": "[encoded data removed]",
      "text/plain": [
       "<matplotlib.figure.Figure at 0x10e99ac88>"
      ]
     },
     "metadata": {},
     "output_type": "display_data"
    }
   ],
   "source": [
    "# 随机产生10次运动控制\n",
    "U = np.random.uniform(low=0.5, high=1.5,size=10)\n",
    "\n",
    "# 生成无滤波与测量的情况下，机器人对位姿轨迹的估计\n",
    "X_no_filter = np.array([0, 0, np.pi / 4]).reshape((1,3))\n",
    "for u in U:\n",
    "    temp_pose = state_transfer_function(X_no_filter[-1], u)\n",
    "    X_no_filter = np.vstack([X_no_filter, temp_pose.T])\n",
    "\n",
    "# 绘制机器人在无滤波的情况下，估计的运动轨迹（忽略了角度值）\n",
    "fig, ax = plt.subplots()\n",
    "ax.plot(X_no_filter[:,0], X_no_filter[:,1], c='b', marker='o', label='no-filter')\n",
    "ax.legend(loc=\"lower right\")"
   ]
  },
  {
   "cell_type": "markdown",
   "metadata": {},
   "source": [
    "### 3.2 生成具有噪声干扰的机器人真实位姿数据"
   ]
  },
  {
   "cell_type": "code",
   "execution_count": 55,
   "metadata": {
    "collapsed": false
   },
   "outputs": [
    {
     "data": {
      "text/plain": [
       "<matplotlib.legend.Legend at 0x10f517518>"
      ]
     },
     "execution_count": 55,
     "metadata": {},
     "output_type": "execute_result"
    },
    {
     "data": {
      "image/png": "[encoded data removed]",
      "text/plain": [
       "<matplotlib.figure.Figure at 0x10f3192e8>"
      ]
     },
     "metadata": {},
     "output_type": "display_data"
    }
   ],
   "source": [
    "# 假设机器人的控制装置对于移动距离控制的较为精确（方差较大，例如取值为0.3）\n",
    "# 而对角度的控制较为精确（方差较小，例如取值为0.1）\n",
    "# 因此采样的协方差矩阵为\n",
    "Sigma_u = np.diag([0.3**2, 0.3**2, 0.1**2])\n",
    "X_ground_truth = np.array([0, 0, np.pi / 4]).reshape((1,3))\n",
    "\n",
    "for u in U:\n",
    "    temp_pose = state_transfer_sample(X_ground_truth[-1], u, Sigma_u)\n",
    "    X_ground_truth = np.vstack([X_ground_truth, temp_pose.T])\n",
    "\n",
    "fig, ax = plt.subplots()\n",
    "ax.plot(X_no_filter[:,0], X_no_filter[:,1], \n",
    "        c='b', marker='o', label='no-filter')\n",
    "ax.plot(X_ground_truth[:,0], X_ground_truth[:,1], \n",
    "        c='k', marker='o', label='ground-truth')\n",
    "ax.legend(loc=\"lower right\")"
   ]
  },
  {
   "cell_type": "markdown",
   "metadata": {},
   "source": [
    "从上图可以看出当机器人的控制存在噪声时，真实的位姿轨迹与无滤波的估计之间存在较大的漂移。\n",
    "\n",
    "### 3.3 根据Ground-Truth数据对测量进行采样"
   ]
  },
  {
   "cell_type": "code",
   "execution_count": 58,
   "metadata": {
    "collapsed": false
   },
   "outputs": [
    {
     "name": "stdout",
     "output_type": "stream",
     "text": [
      "[array([[-0.03266132]]), array([[ 0.88925637]]), array([[ 2.1579724]]), array([[ 2.62225085]]), array([[ 3.06012733]]), array([[ 3.50082633]]), array([[ 4.28182821]]), array([[ 5.18325252]]), array([[ 6.00119759]]), array([[ 7.26055907]]), array([[ 8.589989]])]\n"
     ]
    }
   ],
   "source": [
    "# 假定传感器测量距离世界原点的距离的不确定性为：0.1（标准差）\n",
    "Sigma_z = 0.1\n",
    "Z = []\n",
    "\n",
    "for mu in X_ground_truth:\n",
    "    z = measurement_sample(mu, Sigma_z)\n",
    "    Z.append(z)\n",
    "\n",
    "print(Z)"
   ]
  }
 ],
 "metadata": {
  "anaconda-cloud": {},
  "kernelspec": {
   "display_name": "Python [conda root]",
   "language": "python",
   "name": "conda-root-py"
  },
  "language_info": {
   "codemirror_mode": {
    "name": "ipython",
    "version": 3
   },
   "file_extension": ".py",
   "mimetype": "text/x-python",
   "name": "python",
   "nbconvert_exporter": "python",
   "pygments_lexer": "ipython3",
   "version": "3.5.2"
  }
 },
 "nbformat": 4,
 "nbformat_minor": 0
}
