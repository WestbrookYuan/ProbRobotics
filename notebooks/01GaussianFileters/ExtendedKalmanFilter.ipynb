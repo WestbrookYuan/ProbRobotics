{
 "cells": [
  {
   "cell_type": "code",
   "execution_count": 1,
   "metadata": {
    "collapsed": true
   },
   "outputs": [],
   "source": [
    "import numpy as np\n",
    "import matplotlib.pyplot as plt\n",
    "%matplotlib inline"
   ]
  },
  {
   "cell_type": "markdown",
   "metadata": {},
   "source": [
    "# 扩展卡尔曼滤波（Extended Kalman Filter，EKF）\n",
    "\n",
    "在卡尔曼滤波中，要满足两个条件：观测是状态的线性函数，下一个状态是当前状态的线性函数。这两个假设对KF的正确性是很重要的。\n",
    "\n",
    "不幸的是，实际上状态转移函数和测量函数很少是线性函数。例如具有恒定线速度和角速度的机器人的典型移动轨迹是圆。对于这种情况有两种方案：\n",
    "1. 将状态转移函数和测量函数进行线性化，利用参数化的分布来保存不确定性。\n",
    "2. 利用非参数的方法，例如直方图或粒子集的方法来保存分布的不确定性。\n",
    "\n",
    "## 1. 扩展卡尔曼滤波算法\n",
    "\n",
    "### 1.1 非线性的状态转移函数和测量函数\n",
    "\n",
    "令非线性的状态转移函数为：\n",
    "$$x_t = g(u_t, x_{t-1} ) + \\varepsilon_t$$\n",
    "\n",
    "非线性的观测函数为：\n",
    "$$z_t = h(x_t) + \\delta_t$$\n",
    "\n",
    "准确的实现置信度更新对于非线性函数$g$和$h$通常是不可能的，贝叶斯滤波不存在闭式解。EKF计算**真实置信度的高斯近似值**，因此EKF表示时刻$t$的置信度$bel(x_t)$，具有均值$\\mu_t$和协方差$\\Sigma_t$。\n",
    "\n",
    "### 1.2 通过泰勒展式进行线性化\n",
    "\n",
    "泰勒展开根据$g$的值和斜率构造一个函数$g$的线性近似函数，斜率由下面的偏导数给出：\n",
    "$$G_t = g'(u_t, x_{t-1}) := \\frac {\\partial g(u_t, x_{t-1})}{\\partial x_{t-1}}$$\n",
    "$G_t$是函数$g$的Jacobian。\n",
    "\n",
    "用相同的方法可以求得测量函数的Jacobian：\n",
    "$$H_t = h'(x_t) = \\frac {\\partial h(x_t)}{\\partial x_t}$$\n",
    "\n",
    "### 1.3 扩展卡尔曼滤波算法\n",
    "\n",
    "----\n",
    "1：**Algorithm Extended_Kalman_filter**$( \\mu_{t-1}, \\Sigma_{t-1}, u_t, z_t )$**:**  \n",
    "2：&emsp;&emsp;$\\overline \\mu_t = g(u_t, \\mu_{t-1})$  \n",
    "3：&emsp;&emsp;$\\overline \\Sigma_t = G_t \\Sigma_{t-1}G_t^T + R_t$  \n",
    "4：&emsp;&emsp;$K_t = \\overline \\Sigma_t H_t^T ( H_t \\overline \\Sigma_t H_t^T + Q_t)^{-1}$  \n",
    "5：&emsp;&emsp;$\\mu_t = \\overline \\mu_t + K_t (z_t - h(\\overline \\mu_t))$  \n",
    "6：&emsp;&emsp;$\\Sigma_t = (I - K_t H_t) \\overline \\Sigma_t$  \n",
    "7：&emsp;&emsp;**return** ${\\mu_t, \\Sigma_t}$  \n",
    "\n",
    "----"
   ]
  },
  {
   "cell_type": "markdown",
   "metadata": {},
   "source": [
    "## 2. 仿真模型\n",
    "\n",
    "假定有一个在平面环境操作的移动机器人，其状态是它的$(x,y)^T$位置和它的全局航向$\\theta$。假定已知确切的$x$和$y$，但是方向$\\theta$是未知的。例如初始的估计为：\n",
    "$$\\mu = (0, 0, \\frac {\\pi}{4}) \\qquad \\Sigma = \\begin{bmatrix}\n",
    "0.01 & 0 & 0 \\\\ 0 & 0.01 & 0 \\\\ 0 & 0 & 10000\n",
    "\\end{bmatrix}$$\n",
    "\n",
    "假设机器人的运动控制是向前移动$u_t$个单位，因此移动后机器人的期望位置将为：\n",
    "$$\\begin{bmatrix}\n",
    "x' \\\\ y' \\\\ \\theta'\n",
    "\\end{bmatrix} = \\begin{bmatrix}\n",
    "x + u_t cos \\theta \\\\ y + u_t sin \\theta \\\\ \\theta\n",
    "\\end{bmatrix}$$\n",
    "\n",
    "测量量是机器人距离世界坐标系原点的距离。\n",
    "$$z_t = h(x_t) = \\sqrt{x^2 + y^2} $$"
   ]
  },
  {
   "cell_type": "markdown",
   "metadata": {},
   "source": [
    "### 2.1 状态转移函数的定义"
   ]
  },
  {
   "cell_type": "code",
   "execution_count": 2,
   "metadata": {
    "collapsed": false
   },
   "outputs": [
    {
     "data": {
      "text/plain": [
       "array([[ 4.33012702],\n",
       "       [ 2.5       ],\n",
       "       [ 0.52359878]])"
      ]
     },
     "execution_count": 2,
     "metadata": {},
     "output_type": "execute_result"
    }
   ],
   "source": [
    "def state_transfer_function(mu, u):\n",
    "    x0, y0, theta0 = np.squeeze(mu)\n",
    "    x1 = x0 + u * np.cos(theta0)\n",
    "    y1 = y0 + u * np.sin(theta0)\n",
    "    theta1 = theta0\n",
    "    return np.array([x1, y1, theta1]).reshape((3, 1))\n",
    "\n",
    "state_transfer_function(np.array([0, 0, np.pi / 6]).reshape((3, 1)),5)"
   ]
  },
  {
   "cell_type": "markdown",
   "metadata": {},
   "source": [
    "### 2.2 测量函数的定义"
   ]
  },
  {
   "cell_type": "code",
   "execution_count": 3,
   "metadata": {
    "collapsed": false
   },
   "outputs": [
    {
     "data": {
      "text/plain": [
       "array([[ 5.]])"
      ]
     },
     "execution_count": 3,
     "metadata": {},
     "output_type": "execute_result"
    }
   ],
   "source": [
    "def measurement_function(mu):\n",
    "    x0, y0, theta0 = np.squeeze(mu)\n",
    "    z = np.sqrt(x0 ** 2 + y0 ** 2)\n",
    "    return np.array([z]).reshape((1,1))\n",
    "\n",
    "measurement_function(np.array([3, 4, np.pi / 6]).reshape((3, 1)))"
   ]
  },
  {
   "cell_type": "markdown",
   "metadata": {},
   "source": [
    "### 2.3 状态转移采样函数（带噪声）"
   ]
  },
  {
   "cell_type": "code",
   "execution_count": 4,
   "metadata": {
    "collapsed": false
   },
   "outputs": [
    {
     "data": {
      "text/plain": [
       "array([[ 4.07733555],\n",
       "       [ 3.14666632],\n",
       "       [ 0.57413313]])"
      ]
     },
     "execution_count": 4,
     "metadata": {},
     "output_type": "execute_result"
    }
   ],
   "source": [
    "def state_transfer_sample(mu, u, Sigma_u):\n",
    "    x0, y0, theta0 = np.squeeze(mu)\n",
    "    noise_x, noise_y, noise_theta = np.random.multivariate_normal(np.zeros(3), Sigma_u)\n",
    "    x1 = x0 + noise_x + u * np.cos(theta0 + noise_theta)\n",
    "    y1 = y0 + noise_y + u * np.sin(theta0 + noise_theta)\n",
    "    theta1 = theta0 + noise_theta\n",
    "    return np.array([x1, y1, theta1]).reshape((3, 1))\n",
    "\n",
    "Sigma = np.diag([0.2**2, 0.2 ** 2, 0.05 ** 2])\n",
    "state_transfer_sample(np.array([0, 0, np.pi / 6]).reshape((3, 1)), 5, Sigma)"
   ]
  },
  {
   "cell_type": "markdown",
   "metadata": {},
   "source": [
    "### 2.4 测量采样函数（带噪声）"
   ]
  },
  {
   "cell_type": "code",
   "execution_count": 5,
   "metadata": {
    "collapsed": false
   },
   "outputs": [
    {
     "data": {
      "text/plain": [
       "array([[ 0.20593399]])"
      ]
     },
     "execution_count": 5,
     "metadata": {},
     "output_type": "execute_result"
    }
   ],
   "source": [
    "def measurement_sample(mu, Sigma_z):\n",
    "    x0, y0, theta0 = np.squeeze(mu)\n",
    "    noise = np.random.normal(0, Sigma_z)\n",
    "    x0 += noise\n",
    "    noise = np.random.normal(0, Sigma_z)\n",
    "    y0 += noise\n",
    "    z = np.sqrt(x0 ** 2 + y0 ** 2)\n",
    "    return np.array([z]).reshape((1,1))\n",
    "\n",
    "measurement_sample(np.array([0, 0, np.pi / 6]).reshape((3, 1)), Sigma_z=0.1)"
   ]
  },
  {
   "cell_type": "markdown",
   "metadata": {},
   "source": [
    "### 2.5 状态转移函数的Jacobian矩阵"
   ]
  },
  {
   "cell_type": "code",
   "execution_count": 6,
   "metadata": {
    "collapsed": false
   },
   "outputs": [
    {
     "data": {
      "text/plain": [
       "array([[ 1.       ,  0.       , -0.8660254],\n",
       "       [ 0.       ,  1.       ,  0.8660254],\n",
       "       [ 0.       ,  0.       ,  1.       ]])"
      ]
     },
     "execution_count": 6,
     "metadata": {},
     "output_type": "execute_result"
    }
   ],
   "source": [
    "def jacobian_G(mu, u):\n",
    "    x, y, theta = np.squeeze(mu)\n",
    "    G = np.eye(3,dtype=np.float64)\n",
    "    G[0][2] = - u * np.cos(theta)\n",
    "    G[1][2] = u * np.cos(theta)\n",
    "    return G\n",
    "\n",
    "jacobian_G(np.array([1, 1, np.pi / 6]).reshape((3, 1)), 1)"
   ]
  },
  {
   "cell_type": "markdown",
   "metadata": {},
   "source": [
    "### 2.6 测量函数的Jacobian矩阵"
   ]
  },
  {
   "cell_type": "code",
   "execution_count": 7,
   "metadata": {
    "collapsed": false
   },
   "outputs": [],
   "source": [
    "def jacobian_H(mu):\n",
    "    x, y, theta = np.squeeze(mu)\n",
    "    distance = np.sqrt(x ** 2 + y ** 2)\n",
    "    H = np.array([x/distance, y / distance, 0]).reshape((1, 3))\n",
    "    return H\n",
    "\n",
    "# jacobian_H( np.array([1, 1, np.pi / 6]).reshape((3, 1)) )"
   ]
  },
  {
   "cell_type": "markdown",
   "metadata": {},
   "source": [
    "### 2.7 扩展卡尔曼滤波算法"
   ]
  },
  {
   "cell_type": "code",
   "execution_count": 8,
   "metadata": {
    "collapsed": false,
    "scrolled": true
   },
   "outputs": [
    {
     "name": "stdout",
     "output_type": "stream",
     "text": [
      "Step 1\n",
      " [[ 1.71119024  1.71119024  0.78539816]] \n",
      " [[  50.0250499   -50.0249501   -70.71067812]\n",
      " [ -50.0249501    50.0250499    70.71067812]\n",
      " [ -70.71067812   70.71067812  100.04      ]]\n",
      "Step 2\n",
      " [[ 2.42006415  2.42006415  0.78539816]] \n",
      " [[ 450.12504988 -450.12495012 -212.1886029 ]\n",
      " [-450.12495012  450.12504988  212.1886029 ]\n",
      " [-212.1886029   212.1886029   100.08      ]]\n",
      "Step 3\n",
      " [[ 2.42094804  2.42094804  0.78539816]] \n",
      " [[ 1012.85504988 -1012.85495012  -318.33947289]\n",
      " [-1012.85495012  1012.85504988   318.33947289]\n",
      " [ -318.33947289   318.33947289   100.12      ]]\n"
     ]
    }
   ],
   "source": [
    "def extended_kalman_filter(mu0, Sigma0, u, z, sigma_u=0.2, sigma_z=0.1):\n",
    "    # 重新规整输入参数的形状\n",
    "    mu0 = np.array(mu0).reshape((3, 1))\n",
    "    Sigma0 = np.array(Sigma0).reshape((3,3))\n",
    "    z = np.array(z).reshape((1,1))\n",
    "    \n",
    "    # 控制方程和测量方程的误差协方差矩阵\n",
    "    R = np.eye(3, dtype=np.float64) * sigma_u ** 2\n",
    "    Q = np.array([1]).reshape((1,1)) * sigma_z ** 2\n",
    "    \n",
    "    # 计算控制雅可比矩阵\n",
    "    G = jacobian_G(mu0, u)\n",
    "    \n",
    "    # 执行控制预测步骤\n",
    "    mu1 = state_transfer_function(mu0, u)\n",
    "    Sigma1 = np.dot(np.dot(G, Sigma0), G.T) + R\n",
    "    \n",
    "    # 计算观测雅克比矩阵\n",
    "    H = jacobian_H(mu1)\n",
    "    \n",
    "    # 进行测量更新步骤\n",
    "    Temp = np.linalg.inv(np.dot(np.dot(H, Sigma1), H.T) + Q)\n",
    "    K = np.dot(np.dot(Sigma1, H.T), Temp)\n",
    "    mu2 = mu1 + np.dot(K, (z - measurement_function(mu1)))\n",
    "    Sigma2 = np.dot((np.eye(3) - np.dot(K, H)), Sigma1)\n",
    "\n",
    "#     print(\"===============\")\n",
    "#     print(\"mu0\", mu0.T)\n",
    "#     print(\"Sigma0\", Sigma0)\n",
    "#     print(\"u\", u)\n",
    "#     print(\"z\", z)\n",
    "#     print(\"R\", R)\n",
    "#     print(\"Q\", Q)\n",
    "#     print(\"G\", G)\n",
    "#     print(\"H\", H)\n",
    "#     print(\"mu1\",mu1.T)\n",
    "#     print(\"Sigma1\", Sigma1)\n",
    "#     print(\"Temp\", Temp)\n",
    "#     print(\"K\", K)\n",
    "#     print(\"mu2\",mu2.T)\n",
    "#     print(\"h(mu1)\",measurement_function(mu1))\n",
    "#     print(\"mu2\", mu2)\n",
    "#     print(\"Sigma2\",Sigma2)\n",
    "    return mu2, Sigma2\n",
    "\n",
    "# 仿真一个三次运动，每次前进一个\n",
    "mu = np.array([1, 1, np.pi/4]).reshape((3, 1))\n",
    "Sigma = np.diag([0.01, 0.01, 100])\n",
    "u = 1\n",
    "z = 2.42\n",
    "mu ,Sigma = extended_kalman_filter(mu, Sigma, u, z, sigma_u=0.2, sigma_z=0.01)\n",
    "print(\"Step 1\\n\", mu.T, \"\\n\", Sigma)\n",
    "u = 2\n",
    "z = 3.42\n",
    "mu ,Sigma = extended_kalman_filter(mu, Sigma, u, z, sigma_u=0.2, sigma_z=0.01)\n",
    "print(\"Step 2\\n\", mu.T, \"\\n\", Sigma)\n",
    "u = 1.5\n",
    "z = 3.42\n",
    "mu ,Sigma = extended_kalman_filter(mu, Sigma, u, z, sigma_u=0.2, sigma_z=0.01)\n",
    "print(\"Step 3\\n\", mu.T, \"\\n\", Sigma)"
   ]
  },
  {
   "cell_type": "markdown",
   "metadata": {},
   "source": [
    "从上面的结果可以看到，EKF算法可以把运动控制的偏移通过测量进行减弱，但是由于测量信息与机器人角度信息无关，因此原始的机器人角度的不确定性会扩散到机器人状态的所有分量上，最终导致整体的不确定性越来越大。\n",
    "\n",
    "这就意味着，用于测量的传感器必须要涉及到机器人状态的所有分量，才有可能降低整体的不确定性。"
   ]
  },
  {
   "cell_type": "markdown",
   "metadata": {},
   "source": [
    "## 3. 测量与角度无关的仿真实验\n",
    "\n",
    "### 3.1 生成无滤波的位姿状态估计"
   ]
  },
  {
   "cell_type": "code",
   "execution_count": 9,
   "metadata": {
    "collapsed": false
   },
   "outputs": [
    {
     "data": {
      "text/plain": [
       "<matplotlib.legend.Legend at 0x15b34355a20>"
      ]
     },
     "execution_count": 9,
     "metadata": {},
     "output_type": "execute_result"
    },
    {
     "data": {
      "image/png": "[encoded data removed]",
      "text/plain": [
       "<matplotlib.figure.Figure at 0x15b33f8b160>"
      ]
     },
     "metadata": {},
     "output_type": "display_data"
    }
   ],
   "source": [
    "# Step数量\n",
    "N = 10000\n",
    "\n",
    "# 显示前n次的信息\n",
    "n = 15\n",
    "\n",
    "# 随机产生N次运动控制\n",
    "U = np.random.uniform(low=0.5, high=1.5,size=N)\n",
    "\n",
    "# 生成无滤波与测量的情况下，机器人对位姿轨迹的估计\n",
    "X_no_filter = np.array([0, 0, np.pi / 4]).reshape((1,3))\n",
    "for u in U:\n",
    "    temp_pose = state_transfer_function(X_no_filter[-1], u)\n",
    "    X_no_filter = np.vstack([X_no_filter, temp_pose.T])\n",
    "\n",
    "# 绘制机器人在无滤波的情况下，估计的运动轨迹（忽略了角度值）\n",
    "fig, ax = plt.subplots()\n",
    "ax.plot(X_no_filter[:n,0], X_no_filter[:n,1], c='b', marker='o', label='no-filter')\n",
    "ax.legend(loc=\"lower right\")"
   ]
  },
  {
   "cell_type": "markdown",
   "metadata": {},
   "source": [
    "### 3.2 生成具有噪声干扰的机器人真实位姿数据"
   ]
  },
  {
   "cell_type": "code",
   "execution_count": 10,
   "metadata": {
    "collapsed": false
   },
   "outputs": [
    {
     "data": {
      "text/plain": [
       "<matplotlib.legend.Legend at 0x15b3441c6d8>"
      ]
     },
     "execution_count": 10,
     "metadata": {},
     "output_type": "execute_result"
    },
    {
     "data": {
      "image/png": "[encoded data removed]",
      "text/plain": [
       "<matplotlib.figure.Figure at 0x15b343718d0>"
      ]
     },
     "metadata": {},
     "output_type": "display_data"
    }
   ],
   "source": [
    "# 假设机器人的控制装置对于移动距离控制的较为精确（方差较大，例如取值为0.3）\n",
    "# 而对角度的控制较为精确（方差较小，例如取值为0.1）\n",
    "# 因此采样的协方差矩阵为\n",
    "Sigma_u = np.diag([0.3**2, 0.3**2, 0.1**2])\n",
    "X_ground_truth = np.array([0, 0, np.pi / 4]).reshape((1,3))\n",
    "\n",
    "for u in U:\n",
    "    temp_pose = state_transfer_sample(X_ground_truth[-1], u, Sigma_u)\n",
    "    X_ground_truth = np.vstack([X_ground_truth, temp_pose.T])\n",
    "\n",
    "fig, ax = plt.subplots()\n",
    "ax.plot(X_no_filter[:n,0], X_no_filter[:n,1], \n",
    "        c='b', marker='o', label='no-filter')\n",
    "ax.plot(X_ground_truth[:n,0], X_ground_truth[:n,1], \n",
    "        c='k', marker='o', label='ground-truth')\n",
    "ax.legend(loc=\"lower right\")"
   ]
  },
  {
   "cell_type": "markdown",
   "metadata": {},
   "source": [
    "从上图可以看出当机器人的控制存在噪声时，真实的位姿轨迹与无滤波的估计之间存在较大的漂移。\n",
    "\n",
    "### 3.3 根据Ground-Truth数据对测量进行采样"
   ]
  },
  {
   "cell_type": "code",
   "execution_count": 11,
   "metadata": {
    "collapsed": false
   },
   "outputs": [],
   "source": [
    "# 假定传感器测量距离世界原点的距离的不确定性为：0.1（标准差）\n",
    "Sigma_z = 0.1\n",
    "Z = []\n",
    "\n",
    "for mu in X_ground_truth:\n",
    "    z = measurement_sample(mu, Sigma_z)\n",
    "    Z.append(z)\n",
    "\n"
   ]
  },
  {
   "cell_type": "markdown",
   "metadata": {},
   "source": [
    "### 3.4 用扩展卡尔曼滤波来消除偏差"
   ]
  },
  {
   "cell_type": "code",
   "execution_count": 12,
   "metadata": {
    "collapsed": false
   },
   "outputs": [
    {
     "data": {
      "text/plain": [
       "<matplotlib.legend.Legend at 0x15b346e8eb8>"
      ]
     },
     "execution_count": 12,
     "metadata": {},
     "output_type": "execute_result"
    },
    {
     "data": {
      "image/png": "[encoded data removed]",
      "text/plain": [
       "<matplotlib.figure.Figure at 0x15b343c7e48>"
      ]
     },
     "metadata": {},
     "output_type": "display_data"
    }
   ],
   "source": [
    "# 假设运动控制误差为0.25，观测误差为0.1\n",
    "sigma_u = 0.25\n",
    "sigma_z = 0.1\n",
    "\n",
    "Sigma = []\n",
    "# 设定初始的位姿和初始的协方差\n",
    "X_ekf = np.array([0, 0, np.pi / 4]).reshape((1,3))\n",
    "sigma = np.diag([0.01, 0.01, 100])\n",
    "Sigma.append(sigma)\n",
    "\n",
    "for u, z in zip(U, Z):\n",
    "    mu, sigma = extended_kalman_filter(X_ekf[-1], Sigma[-1], \n",
    "                                       u, z, sigma_u=sigma_u, sigma_z=sigma_z)\n",
    "    X_ekf = np.vstack([X_ekf, mu.T])\n",
    "    Sigma.append(sigma)\n",
    "\n",
    "n = 10\n",
    "fig, ax = plt.subplots()\n",
    "ax.plot(X_no_filter[:n,0], X_no_filter[:n,1], \n",
    "        c='b', marker='o', label='no-filter')\n",
    "ax.plot(X_ground_truth[:n,0], X_ground_truth[:n,1], \n",
    "        c='k', marker='o', label='ground-truth')\n",
    "ax.plot(X_ekf[:n,0], X_ekf[:n,1], \n",
    "        c='r', marker='o', label='extended-kalman-filter')\n",
    "ax.legend(loc=\"lower right\")\n"
   ]
  },
  {
   "cell_type": "markdown",
   "metadata": {},
   "source": [
    "从实验结果可以看到，因为测量数据没有与角度有关的信息，因此在扩展卡尔曼滤波中，因此采用EKF滤波的位姿估计无法估计出正确的角度变化。\n",
    "\n",
    "> *这个地方很奇怪，在苹果的系统上，运算出来的结果角度竟然偏离了no-filter的轨迹，这是不应该的，很奇怪。但是在windows平台计算是正常的，没有尝试Linux平台是否存在问题。这个问题尚未解决。*"
   ]
  },
  {
   "cell_type": "code",
   "execution_count": 13,
   "metadata": {
    "collapsed": false
   },
   "outputs": [
    {
     "data": {
      "text/plain": [
       "<matplotlib.legend.Legend at 0x15b347ad7f0>"
      ]
     },
     "execution_count": 13,
     "metadata": {},
     "output_type": "execute_result"
    },
    {
     "data": {
      "image/png": "[encoded data removed]",
      "text/plain": [
       "<matplotlib.figure.Figure at 0x15b34716908>"
      ]
     },
     "metadata": {},
     "output_type": "display_data"
    }
   ],
   "source": [
    "# 距离信息的变化\n",
    "distance_ground_truth = []\n",
    "distance_no_filter = []\n",
    "distance_extended_kalman_filter = []\n",
    "\n",
    "for gt, nf, ekf in zip(X_ground_truth, X_no_filter, X_ekf):\n",
    "    distance_ground_truth.append(np.sqrt(gt[0]**2 + gt[1] ** 2))\n",
    "    distance_no_filter.append(np.sqrt(nf[0]**2 + nf[1]**2))\n",
    "    distance_extended_kalman_filter.append(np.sqrt(ekf[0]**2 + ekf[1]**2))\n",
    "\n",
    "distance_ground_truth = np.array(distance_ground_truth)\n",
    "distance_no_filter = np.array(distance_no_filter)\n",
    "distance_extended_kalman_filter = np.array(distance_extended_kalman_filter)\n",
    "    \n",
    "x = [i for i in range(N+1)]\n",
    "fig, ax = plt.subplots()\n",
    "# ax.plot(x, distance_ground_truth, c='k', marker='o')\n",
    "ax.plot(x, np.abs(distance_no_filter - distance_ground_truth), c='b', label='no-filter')\n",
    "ax.plot(x, np.abs(distance_extended_kalman_filter - distance_ground_truth), c='r', label='extended-kalman-filter')\n",
    "ax.legend(loc='upper left')"
   ]
  },
  {
   "cell_type": "markdown",
   "metadata": {
    "collapsed": false
   },
   "source": [
    "但是从1000次迭代的结果中，我们提取无滤波轨迹中位姿到世界坐标系的原点之间的距离，以及EKF滤波产生轨迹的位姿到世界坐标系原点的距离。可以发现EKF滤波产生轨迹到原点之间的距离受到了传感器测量的修正。"
   ]
  },
  {
   "cell_type": "code",
   "execution_count": 14,
   "metadata": {
    "collapsed": false
   },
   "outputs": [
    {
     "data": {
      "text/plain": [
       "<matplotlib.legend.Legend at 0x15b3473eac8>"
      ]
     },
     "execution_count": 14,
     "metadata": {},
     "output_type": "execute_result"
    },
    {
     "data": {
      "image/png": "[encoded data removed]",
      "text/plain": [
       "<matplotlib.figure.Figure at 0x15b343e3128>"
      ]
     },
     "metadata": {},
     "output_type": "display_data"
    }
   ],
   "source": [
    "x = [i for i in range(N+1)]\n",
    "es = [ np.max(e) for e, v in [np.linalg.eig(s) for s in Sigma] ]\n",
    "fig, ax = plt.subplots()\n",
    "ax.plot(x, np.array(es), c='r', label='max-eigenvalue')\n",
    "ax.legend(loc='upper left')"
   ]
  },
  {
   "cell_type": "markdown",
   "metadata": {},
   "source": [
    "从1000步迭代的协方差矩阵的最大特征值的变化，也可以看出随着EKF滤波的进行，由于测量并不是与所有的状态分量有关，因此不确定性无法收敛。\n",
    "\n",
    "## 4. 测量与角度有关的仿真实验\n",
    "\n",
    "为了实现更好的效果，考虑为机器人添加一个能够测量当前位姿角度的传感器，能够以一定的误差对当前位姿角度进行采样。\n",
    "\n",
    "需要修正测量计算、测量采样、测量函数Jacobi、EKF三个函数：\n",
    "\n",
    "### 4.1 修正测量计算函数"
   ]
  },
  {
   "cell_type": "code",
   "execution_count": 15,
   "metadata": {
    "collapsed": true
   },
   "outputs": [],
   "source": [
    "def measurement_function_v1(mu):\n",
    "    x0, y0, theta0 = np.squeeze(mu)\n",
    "    z1 = np.sqrt(x0 ** 2 + y0 ** 2)\n",
    "    z2 = theta0\n",
    "    return np.array([z1, z2]).reshape((2,1))"
   ]
  },
  {
   "cell_type": "markdown",
   "metadata": {},
   "source": [
    "### 4.2 修正测量采样函数"
   ]
  },
  {
   "cell_type": "code",
   "execution_count": 16,
   "metadata": {
    "collapsed": false
   },
   "outputs": [],
   "source": [
    "def measurement_sample_v1(mu, Sigma_z):\n",
    "    x0, y0, theta0 = np.squeeze(mu)\n",
    "    noise = np.random.normal(0, Sigma_z)\n",
    "    x0 += noise\n",
    "    noise = np.random.normal(0, Sigma_z)\n",
    "    y0 += noise\n",
    "    z1 = np.sqrt(x0 ** 2 + y0 ** 2)\n",
    "    noise = np.random.normal(0, Sigma_z)\n",
    "    z2 = theta0 + noise\n",
    "    if z2 > np.pi:\n",
    "        z2 = z2 - 2 * np.pi\n",
    "    elif z2 < -np.pi:\n",
    "        z2 = z2 + 2 * np.pi\n",
    "    return np.array([z1, z2]).reshape((2,1))"
   ]
  },
  {
   "cell_type": "markdown",
   "metadata": {},
   "source": [
    "### 4.3 修正后测量函数的Jacobi矩阵"
   ]
  },
  {
   "cell_type": "code",
   "execution_count": 17,
   "metadata": {
    "collapsed": true
   },
   "outputs": [],
   "source": [
    "def jacobian_H_v1(mu):\n",
    "    x, y, theta = np.squeeze(mu)\n",
    "    distance = np.sqrt(x ** 2 + y ** 2)\n",
    "    H = np.array([x/distance, y / distance, 0, 0, 0, 1]).reshape((2, 3))\n",
    "    return H"
   ]
  },
  {
   "cell_type": "markdown",
   "metadata": {},
   "source": [
    "### 4.4 修正后的扩展卡尔曼滤波算法函数"
   ]
  },
  {
   "cell_type": "code",
   "execution_count": 18,
   "metadata": {
    "collapsed": true
   },
   "outputs": [],
   "source": [
    "def extended_kalman_filter_v1(mu0, Sigma0, u, z, sigma_u=0.2, sigma_z=0.1):\n",
    "    # 重新规整输入参数的形状\n",
    "    mu0 = np.array(mu0).reshape((3, 1))\n",
    "    Sigma0 = np.array(Sigma0).reshape((3,3))\n",
    "    z = np.array(z).reshape((2,1))\n",
    "    \n",
    "    # 控制方程和测量方程的误差协方差矩阵\n",
    "    R = np.eye(3, dtype=np.float64) * sigma_u ** 2\n",
    "    Q = np.eye(2, dtype=np.float64) * sigma_z ** 2 # 修正\n",
    "    \n",
    "    # 计算控制雅可比矩阵\n",
    "    G = jacobian_G(mu0, u)\n",
    "    \n",
    "    # 执行控制预测步骤\n",
    "    mu1 = state_transfer_function(mu0, u)\n",
    "    Sigma1 = np.dot(np.dot(G, Sigma0), G.T) + R\n",
    "    \n",
    "    # 计算观测雅克比矩阵\n",
    "    H = jacobian_H_v1(mu1) # 修正\n",
    "    \n",
    "    # 进行测量更新步骤\n",
    "    Temp = np.linalg.inv(np.dot(np.dot(H, Sigma1), H.T) + Q)\n",
    "    K = np.dot(np.dot(Sigma1, H.T), Temp)\n",
    "    mu2 = mu1 + np.dot(K, (z - measurement_function_v1(mu1))) # 修正\n",
    "    Sigma2 = np.dot((np.eye(3) - np.dot(K, H)), Sigma1)\n",
    "\n",
    "#     print(\"===============\")\n",
    "#     print(\"mu0\", mu0.T)\n",
    "#     print(\"Sigma0\", Sigma0)\n",
    "#     print(\"u\", u)\n",
    "#     print(\"z\", z)\n",
    "#     print(\"R\", R)\n",
    "#     print(\"Q\", Q)\n",
    "#     print(\"G\", G)\n",
    "#     print(\"H\", H)\n",
    "#     print(\"mu1\",mu1.T)\n",
    "#     print(\"Sigma1\", Sigma1)\n",
    "#     print(\"Temp\", Temp)\n",
    "#     print(\"K\", K)\n",
    "#     print(\"mu2\",mu2.T)\n",
    "#     print(\"h(mu1)\",measurement_function(mu1))\n",
    "#     print(\"mu2\", mu2)\n",
    "#     print(\"Sigma2\",Sigma2)\n",
    "    return mu2, Sigma2"
   ]
  },
  {
   "cell_type": "markdown",
   "metadata": {},
   "source": [
    "### 4.5 生成新的测量数据"
   ]
  },
  {
   "cell_type": "code",
   "execution_count": 19,
   "metadata": {
    "collapsed": false
   },
   "outputs": [],
   "source": [
    "Sigma_z = 0.05\n",
    "Z = []\n",
    "\n",
    "for mu in X_ground_truth:\n",
    "    z = measurement_sample_v1(mu, Sigma_z)\n",
    "    Z.append(z)\n"
   ]
  },
  {
   "cell_type": "markdown",
   "metadata": {},
   "source": [
    "### 4.6 根据新的测量数据应用EKF算法"
   ]
  },
  {
   "cell_type": "code",
   "execution_count": 20,
   "metadata": {
    "collapsed": false
   },
   "outputs": [
    {
     "data": {
      "text/plain": [
       "array([ 0.        ,  0.        ,  0.78539816])"
      ]
     },
     "execution_count": 20,
     "metadata": {},
     "output_type": "execute_result"
    },
    {
     "data": {
      "image/png": "[encoded data removed]",
      "text/plain": [
       "<matplotlib.figure.Figure at 0x15b347d6dd8>"
      ]
     },
     "metadata": {},
     "output_type": "display_data"
    }
   ],
   "source": [
    "# 假设运动控制误差为0.25，观测误差为0.1\n",
    "sigma_u = 0.25\n",
    "sigma_z = 0.1\n",
    "\n",
    "Sigma_v1 = []\n",
    "# 设定初始的位姿和初始的协方差\n",
    "X_ekf_v1 = np.array([0, 0, np.pi / 4]).reshape((1,3))\n",
    "sigma = np.diag([0.01, 0.01, 0.01])\n",
    "Sigma_v1.append(sigma)\n",
    "\n",
    "for u, z in zip(U, Z):\n",
    "    mu, sigma = extended_kalman_filter_v1(X_ekf_v1[-1], Sigma_v1[-1], \n",
    "                                       u, z, sigma_u=sigma_u, sigma_z=sigma_z)\n",
    "    X_ekf_v1 = np.vstack([X_ekf_v1, mu.T])\n",
    "    Sigma_v1.append(sigma)\n",
    "\n",
    "n = 60\n",
    "fig, ax = plt.subplots()\n",
    "ax.plot(X_no_filter[:n,0], X_no_filter[:n,1], \n",
    "        c='b', marker='o', label='no-filter')\n",
    "ax.plot(X_ground_truth[:n,0], X_ground_truth[:n,1], \n",
    "        c='k', marker='o', label='ground-truth')\n",
    "ax.plot(X_ekf_v1[:n,0], X_ekf_v1[:n,1], \n",
    "        c='r', marker='o', label='extended-kalman-filter')\n",
    "ax.legend(bbox_to_anchor=(1.6, 0.5), loc='center right')\n",
    "X_ekf_v1[0]"
   ]
  },
  {
   "cell_type": "markdown",
   "metadata": {},
   "source": [
    "可以看到添加用于观测角度值的传感器后，得到了更加鲁棒性的结果。"
   ]
  },
  {
   "cell_type": "code",
   "execution_count": 21,
   "metadata": {
    "collapsed": false
   },
   "outputs": [
    {
     "data": {
      "text/plain": [
       "<matplotlib.legend.Legend at 0x15b3490e898>"
      ]
     },
     "execution_count": 21,
     "metadata": {},
     "output_type": "execute_result"
    },
    {
     "data": {
      "image/png": "[encoded data removed]",
      "text/plain": [
       "<matplotlib.figure.Figure at 0x15b34441c88>"
      ]
     },
     "metadata": {},
     "output_type": "display_data"
    }
   ],
   "source": [
    "x = [i for i in range(N+1)]\n",
    "es = [ np.max(e) for e, v in [np.linalg.eig(s) for s in Sigma_v1] ]\n",
    "fig, ax = plt.subplots()\n",
    "ax.plot(x, np.array(es), c='r', label='max-eigenvalue')\n",
    "ax.legend(loc='upper left')"
   ]
  },
  {
   "cell_type": "markdown",
   "metadata": {},
   "source": [
    "可以看到不确定性的增长也要比没有角度测量之前要更为稳定。"
   ]
  },
  {
   "cell_type": "code",
   "execution_count": 22,
   "metadata": {
    "collapsed": false
   },
   "outputs": [],
   "source": [
    "# 存储no-filter数据集、Ground-truth数据集、控制U集合、测量Z集合\n",
    "np.save('./dataset/no_filter.npy',X_no_filter)\n",
    "np.save('./dataset/ground_truth.npy', X_ground_truth)\n",
    "np.save('./dataset/u.npy', np.array(U))\n",
    "np.save('./dataset/z.npy', np.array(Z))"
   ]
  }
 ],
 "metadata": {
  "anaconda-cloud": {},
  "kernelspec": {
   "display_name": "Python [Root]",
   "language": "python",
   "name": "Python [Root]"
  },
  "language_info": {
   "codemirror_mode": {
    "name": "ipython",
    "version": 3
   },
   "file_extension": ".py",
   "mimetype": "text/x-python",
   "name": "python",
   "nbconvert_exporter": "python",
   "pygments_lexer": "ipython3",
   "version": "3.5.2"
  }
 },
 "nbformat": 4,
 "nbformat_minor": 0
}
